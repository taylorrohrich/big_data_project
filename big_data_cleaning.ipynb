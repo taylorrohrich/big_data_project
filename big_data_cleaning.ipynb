{
 "cells": [
  {
   "cell_type": "code",
   "execution_count": 7,
   "metadata": {},
   "outputs": [],
   "source": [
    "import pandas as pd\n",
    "import numpy as np\n",
    "import matplotlib.pyplot as plt"
   ]
  },
  {
   "cell_type": "markdown",
   "metadata": {},
   "source": [
    "## Part 1: Merging Our Two Datasets Together\n",
    "\n",
    "### This part is the one part done in Pandas just because of the simple API available -- all other work data preprocessing is done in PySpark"
   ]
  },
  {
   "cell_type": "code",
   "execution_count": 8,
   "metadata": {},
   "outputs": [],
   "source": [
    "prices = pd.read_csv('prices.csv')\n",
    "fundamentals = pd.read_csv('fundamentals.csv')"
   ]
  },
  {
   "cell_type": "code",
   "execution_count": 9,
   "metadata": {},
   "outputs": [],
   "source": [
    "prices['date']= pd.to_datetime(prices[\"date\"])"
   ]
  },
  {
   "cell_type": "code",
   "execution_count": 10,
   "metadata": {},
   "outputs": [],
   "source": [
    "prices['quarter'] = prices['date'].dt.quarter\n",
    "prices['year']=prices['date'].dt.year"
   ]
  },
  {
   "cell_type": "code",
   "execution_count": 11,
   "metadata": {},
   "outputs": [],
   "source": [
    "fundamentals.drop(columns=[fundamentals.columns[0]],inplace=True)\n",
    "fundamentals.columns=fundamentals.columns.map(lambda x: \"_\".join(x.lower().replace(\".\",\"_\").split(\" \")))\n",
    "fundamentals = fundamentals.rename(columns={'ticker_symbol':'symbol'})"
   ]
  },
  {
   "cell_type": "code",
   "execution_count": 12,
   "metadata": {},
   "outputs": [],
   "source": [
    "fundamentals['date']= pd.to_datetime(fundamentals[\"period_ending\"])"
   ]
  },
  {
   "cell_type": "code",
   "execution_count": 13,
   "metadata": {},
   "outputs": [],
   "source": [
    "fundamentals['quarter'] = fundamentals['date'].dt.quarter\n",
    "fundamentals['year']=fundamentals['date'].dt.year\n",
    "fundamentals.drop(columns=['date'],inplace=True)"
   ]
  },
  {
   "cell_type": "code",
   "execution_count": 14,
   "metadata": {},
   "outputs": [],
   "source": [
    "combined = prices.merge(fundamentals,on=['symbol','year','quarter'])"
   ]
  },
  {
   "cell_type": "code",
   "execution_count": null,
   "metadata": {},
   "outputs": [],
   "source": [
    "combined.to_csv('stocks.csv',index=False)"
   ]
  },
  {
   "cell_type": "markdown",
   "metadata": {},
   "source": [
    "### Number of Records"
   ]
  },
  {
   "cell_type": "code",
   "execution_count": null,
   "metadata": {},
   "outputs": [],
   "source": [
    "len(combined)"
   ]
  },
  {
   "cell_type": "markdown",
   "metadata": {},
   "source": [
    "### Number of Columns"
   ]
  },
  {
   "cell_type": "code",
   "execution_count": null,
   "metadata": {},
   "outputs": [],
   "source": [
    "len(combined.columns)"
   ]
  },
  {
   "cell_type": "markdown",
   "metadata": {},
   "source": [
    "### Statistical Summary of Response Variable"
   ]
  },
  {
   "cell_type": "code",
   "execution_count": null,
   "metadata": {},
   "outputs": [],
   "source": [
    "response = combined['close']\n",
    "response.describe()"
   ]
  },
  {
   "cell_type": "markdown",
   "metadata": {},
   "source": [
    "### Statistical Summary of (Top 10) Predictor Variables"
   ]
  },
  {
   "cell_type": "code",
   "execution_count": null,
   "metadata": {},
   "outputs": [],
   "source": [
    "selectedCols = ['date', 'symbol', 'open', 'volume',\n",
    "       'year','cash_ratio','accounts_payable','gross_profit','net_income','long-term_debt']"
   ]
  },
  {
   "cell_type": "code",
   "execution_count": null,
   "metadata": {},
   "outputs": [],
   "source": [
    "parsed =combined[selectedCols]"
   ]
  },
  {
   "cell_type": "markdown",
   "metadata": {},
   "source": [
    "#### Numerical Columns"
   ]
  },
  {
   "cell_type": "code",
   "execution_count": null,
   "metadata": {},
   "outputs": [],
   "source": [
    "parsed.describe()"
   ]
  },
  {
   "cell_type": "markdown",
   "metadata": {},
   "source": [
    "#### Categorical Column"
   ]
  },
  {
   "cell_type": "code",
   "execution_count": null,
   "metadata": {},
   "outputs": [],
   "source": [
    "combined['symbol'].value_counts()"
   ]
  },
  {
   "cell_type": "markdown",
   "metadata": {},
   "source": [
    "### Helpful Graphs"
   ]
  },
  {
   "cell_type": "markdown",
   "metadata": {},
   "source": [
    "#### Long Term Debt vs. Net Income"
   ]
  },
  {
   "cell_type": "code",
   "execution_count": null,
   "metadata": {},
   "outputs": [],
   "source": [
    "plt.scatter(parsed['long-term_debt'],parsed['net_income'])\n",
    "plt.show()"
   ]
  },
  {
   "cell_type": "markdown",
   "metadata": {},
   "source": [
    "#### Correlation Matrix of the Top 10 Predictors"
   ]
  },
  {
   "cell_type": "code",
   "execution_count": null,
   "metadata": {},
   "outputs": [],
   "source": [
    "plt.matshow(parsed.corr())\n",
    "plt.show()"
   ]
  },
  {
   "cell_type": "markdown",
   "metadata": {},
   "source": [
    "#### Histogram of Gross Profit"
   ]
  },
  {
   "cell_type": "code",
   "execution_count": null,
   "metadata": {},
   "outputs": [],
   "source": [
    "plt.hist(parsed['gross_profit'],bins=20)"
   ]
  },
  {
   "cell_type": "markdown",
   "metadata": {},
   "source": [
    "### Average Net Income By Year Quarter"
   ]
  },
  {
   "cell_type": "code",
   "execution_count": null,
   "metadata": {},
   "outputs": [],
   "source": [
    "year_breakdown = combined.groupby(['year','quarter'])['net_income'].mean().reset_index()"
   ]
  },
  {
   "cell_type": "code",
   "execution_count": null,
   "metadata": {},
   "outputs": [],
   "source": [
    "x = year_breakdown['year'].astype(str)+ \"Q\" + year_breakdown['quarter'].astype(str)"
   ]
  },
  {
   "cell_type": "code",
   "execution_count": null,
   "metadata": {},
   "outputs": [],
   "source": [
    "plt.figure(figsize=(20,10))\n",
    "plt.scatter(x,year_breakdown['net_income'])\n",
    "plt.show()"
   ]
  },
  {
   "cell_type": "markdown",
   "metadata": {},
   "source": [
    "## Part 2: Data Preprocessing in PySpark"
   ]
  },
  {
   "cell_type": "code",
   "execution_count": 1,
   "metadata": {},
   "outputs": [],
   "source": [
    "from pyspark.mllib.stat import Statistics\n",
    "from pyspark.sql import SparkSession\n",
    "from pyspark.sql.functions import col \n",
    "from pyspark.ml.feature import StandardScaler,Bucketizer\n",
    "from pyspark.sql.types import FloatType\n",
    "from pyspark.sql.functions import isnan, when, count, col\n",
    "# import data types\n",
    "from pyspark.sql.types import StructType, StructField, StringType, IntegerType\n",
    "spark = SparkSession.builder.getOrCreate()"
   ]
  },
  {
   "cell_type": "code",
   "execution_count": 17,
   "metadata": {},
   "outputs": [
    {
     "data": {
      "text/plain": [
       "DataFrame[date: timestamp, symbol: string, open: double, close: double, low: double, high: double, volume: double, quarter: int, year: int, period_ending: timestamp, accounts_payable: double, accounts_receivable: double, add'l_income/expense_items: double, after_tax_roe: double, capital_expenditures: double, capital_surplus: double, cash_ratio: double, cash_and_cash_equivalents: double, changes_in_inventories: double, common_stocks: double, cost_of_revenue: double, current_ratio: double, deferred_asset_charges: double, deferred_liability_charges: double, depreciation: double, earnings_before_interest_and_tax: double, earnings_before_tax: double, effect_of_exchange_rate: double, equity_earnings/loss_unconsolidated_subsidiary: double, fixed_assets: double, goodwill: double, gross_margin: double, gross_profit: double, income_tax: double, intangible_assets: double, interest_expense: double, inventory: double, investments: double, liabilities: double, long-term_debt: double, long-term_investments: double, minority_interest: double, misc__stocks: double, net_borrowings: double, net_cash_flow: double, net_cash_flow-operating: double, net_cash_flows-financing: double, net_cash_flows-investing: double, net_income: double, net_income_adjustments: double, net_income_applicable_to_common_shareholders: double, net_income-cont__operations: double, net_receivables: double, non-recurring_items: double, operating_income: double, operating_margin: double, other_assets: double, other_current_assets: double, other_current_liabilities: double, other_equity: double, other_financing_activities: double, other_investing_activities: double, other_liabilities: double, other_operating_activities: double, other_operating_items: double, pre-tax_margin: double, pre-tax_roe: double, profit_margin: double, quick_ratio: double, research_and_development: double, retained_earnings: double, sale_and_purchase_of_stock: double, sales,_general_and_admin_: double, short-term_debt_/_current_portion_of_long-term_debt: double, short-term_investments: double, total_assets: double, total_current_assets: double, total_current_liabilities: double, total_equity: double, total_liabilities: double, total_liabilities_&_equity: double, total_revenue: double, treasury_stock: double, for_year: double, earnings_per_share: double, estimated_shares_outstanding: double]"
      ]
     },
     "execution_count": 17,
     "metadata": {},
     "output_type": "execute_result"
    }
   ],
   "source": [
    "# read text file into pyspark dataframe\n",
    "# schema = StructType([StructField(col, FloatType(), True) for col in combined.columns])\n",
    "\n",
    "filename = 'stocks.csv'\n",
    "df = spark.read.csv(filename, inferSchema=True, header = True)\n",
    "df.cache()"
   ]
  },
  {
   "cell_type": "code",
   "execution_count": 19,
   "metadata": {},
   "outputs": [
    {
     "name": "stdout",
     "output_type": "stream",
     "text": [
      "root\n",
      " |-- date: timestamp (nullable = true)\n",
      " |-- symbol: string (nullable = true)\n",
      " |-- open: double (nullable = true)\n",
      " |-- close: double (nullable = true)\n",
      " |-- low: double (nullable = true)\n",
      " |-- high: double (nullable = true)\n",
      " |-- volume: double (nullable = true)\n",
      " |-- quarter: integer (nullable = true)\n",
      " |-- year: integer (nullable = true)\n",
      " |-- period_ending: timestamp (nullable = true)\n",
      " |-- accounts_payable: double (nullable = true)\n",
      " |-- accounts_receivable: double (nullable = true)\n",
      " |-- add'l_income/expense_items: double (nullable = true)\n",
      " |-- after_tax_roe: double (nullable = true)\n",
      " |-- capital_expenditures: double (nullable = true)\n",
      " |-- capital_surplus: double (nullable = true)\n",
      " |-- cash_ratio: double (nullable = true)\n",
      " |-- cash_and_cash_equivalents: double (nullable = true)\n",
      " |-- changes_in_inventories: double (nullable = true)\n",
      " |-- common_stocks: double (nullable = true)\n",
      " |-- cost_of_revenue: double (nullable = true)\n",
      " |-- current_ratio: double (nullable = true)\n",
      " |-- deferred_asset_charges: double (nullable = true)\n",
      " |-- deferred_liability_charges: double (nullable = true)\n",
      " |-- depreciation: double (nullable = true)\n",
      " |-- earnings_before_interest_and_tax: double (nullable = true)\n",
      " |-- earnings_before_tax: double (nullable = true)\n",
      " |-- effect_of_exchange_rate: double (nullable = true)\n",
      " |-- equity_earnings/loss_unconsolidated_subsidiary: double (nullable = true)\n",
      " |-- fixed_assets: double (nullable = true)\n",
      " |-- goodwill: double (nullable = true)\n",
      " |-- gross_margin: double (nullable = true)\n",
      " |-- gross_profit: double (nullable = true)\n",
      " |-- income_tax: double (nullable = true)\n",
      " |-- intangible_assets: double (nullable = true)\n",
      " |-- interest_expense: double (nullable = true)\n",
      " |-- inventory: double (nullable = true)\n",
      " |-- investments: double (nullable = true)\n",
      " |-- liabilities: double (nullable = true)\n",
      " |-- long-term_debt: double (nullable = true)\n",
      " |-- long-term_investments: double (nullable = true)\n",
      " |-- minority_interest: double (nullable = true)\n",
      " |-- misc__stocks: double (nullable = true)\n",
      " |-- net_borrowings: double (nullable = true)\n",
      " |-- net_cash_flow: double (nullable = true)\n",
      " |-- net_cash_flow-operating: double (nullable = true)\n",
      " |-- net_cash_flows-financing: double (nullable = true)\n",
      " |-- net_cash_flows-investing: double (nullable = true)\n",
      " |-- net_income: double (nullable = true)\n",
      " |-- net_income_adjustments: double (nullable = true)\n",
      " |-- net_income_applicable_to_common_shareholders: double (nullable = true)\n",
      " |-- net_income-cont__operations: double (nullable = true)\n",
      " |-- net_receivables: double (nullable = true)\n",
      " |-- non-recurring_items: double (nullable = true)\n",
      " |-- operating_income: double (nullable = true)\n",
      " |-- operating_margin: double (nullable = true)\n",
      " |-- other_assets: double (nullable = true)\n",
      " |-- other_current_assets: double (nullable = true)\n",
      " |-- other_current_liabilities: double (nullable = true)\n",
      " |-- other_equity: double (nullable = true)\n",
      " |-- other_financing_activities: double (nullable = true)\n",
      " |-- other_investing_activities: double (nullable = true)\n",
      " |-- other_liabilities: double (nullable = true)\n",
      " |-- other_operating_activities: double (nullable = true)\n",
      " |-- other_operating_items: double (nullable = true)\n",
      " |-- pre-tax_margin: double (nullable = true)\n",
      " |-- pre-tax_roe: double (nullable = true)\n",
      " |-- profit_margin: double (nullable = true)\n",
      " |-- quick_ratio: double (nullable = true)\n",
      " |-- research_and_development: double (nullable = true)\n",
      " |-- retained_earnings: double (nullable = true)\n",
      " |-- sale_and_purchase_of_stock: double (nullable = true)\n",
      " |-- sales,_general_and_admin_: double (nullable = true)\n",
      " |-- short-term_debt_/_current_portion_of_long-term_debt: double (nullable = true)\n",
      " |-- short-term_investments: double (nullable = true)\n",
      " |-- total_assets: double (nullable = true)\n",
      " |-- total_current_assets: double (nullable = true)\n",
      " |-- total_current_liabilities: double (nullable = true)\n",
      " |-- total_equity: double (nullable = true)\n",
      " |-- total_liabilities: double (nullable = true)\n",
      " |-- total_liabilities_&_equity: double (nullable = true)\n",
      " |-- total_revenue: double (nullable = true)\n",
      " |-- treasury_stock: double (nullable = true)\n",
      " |-- for_year: double (nullable = true)\n",
      " |-- earnings_per_share: double (nullable = true)\n",
      " |-- estimated_shares_outstanding: double (nullable = true)\n",
      "\n"
     ]
    }
   ],
   "source": [
    "df.printSchema()"
   ]
  },
  {
   "cell_type": "markdown",
   "metadata": {},
   "source": [
    "#### Filling NA's"
   ]
  },
  {
   "cell_type": "code",
   "execution_count": 20,
   "metadata": {},
   "outputs": [
    {
     "data": {
      "text/plain": [
       "185.79550155398894"
      ]
     },
     "execution_count": 20,
     "metadata": {},
     "output_type": "execute_result"
    }
   ],
   "source": [
    "from pyspark.sql.functions import mean as _mean, stddev as _stddev, col\n",
    "missingCols = ['cash_ratio','current_ratio','quick_ratio','for_year','earnings_per_share']\n",
    "df_stats = df.select(\n",
    "    _mean(col('cash_ratio')).alias('mean_cash_ratio'),\n",
    "    _mean(col('current_ratio')).alias('mean_current_ratio'),\n",
    "    _mean(col('quick_ratio')).alias('mean_quick_ratio'),\n",
    "    _mean(col('for_year')).alias('mean_for_year'),\n",
    "    _mean(col('earnings_per_share')).alias('mean_earnings_per_share'),\n",
    ").collect()\n",
    "df_stats[0][1]\n",
    "\n",
    "# mean = [stat['mean'] for stat in df_stats]"
   ]
  },
  {
   "cell_type": "code",
   "execution_count": 21,
   "metadata": {},
   "outputs": [],
   "source": [
    "meanFill = {colName:df_stats[0][i] for i,colName in enumerate(missingCols)}\n",
    "meanFill\n",
    "df = df.fillna(meanFill)"
   ]
  },
  {
   "cell_type": "markdown",
   "metadata": {},
   "source": [
    "#### Convert String Ticker to Index"
   ]
  },
  {
   "cell_type": "code",
   "execution_count": 24,
   "metadata": {},
   "outputs": [],
   "source": [
    "from pyspark.ml.feature import StringIndexer"
   ]
  },
  {
   "cell_type": "code",
   "execution_count": 25,
   "metadata": {},
   "outputs": [],
   "source": [
    "indexer = StringIndexer(inputCol=\"symbol\", outputCol=\"symbolIndex\")\n",
    "df = indexer.fit(df).transform(df)"
   ]
  },
  {
   "cell_type": "markdown",
   "metadata": {},
   "source": [
    "#### OneHot Encoding"
   ]
  },
  {
   "cell_type": "code",
   "execution_count": 35,
   "metadata": {},
   "outputs": [],
   "source": [
    "from pyspark.ml.feature import OneHotEncoder"
   ]
  },
  {
   "cell_type": "code",
   "execution_count": null,
   "metadata": {},
   "outputs": [],
   "source": [
    "encoder = OneHotEncoder(inputCol='symbolIndex',outputCol='symbolVec')\n",
    "df = encoder.transform(df)\n",
    "df.select('symbolVec').take(2)"
   ]
  },
  {
   "cell_type": "code",
   "execution_count": 45,
   "metadata": {},
   "outputs": [
    {
     "name": "stderr",
     "output_type": "stream",
     "text": [
      "Exception ignored in: <function JavaWrapper.__del__ at 0x7f7b1c786d40>\n",
      "Traceback (most recent call last):\n",
      "  File \"/usr/local/spark/python/pyspark/ml/wrapper.py\", line 40, in __del__\n",
      "    if SparkContext._active_spark_context and self._java_obj is not None:\n",
      "AttributeError: 'OneHotEncoder' object has no attribute '_java_obj'\n"
     ]
    },
    {
     "data": {
      "text/plain": [
       "[Row(date=datetime.datetime(2012, 1, 2, 19, 0), symbol='BBY', open=23.700001, close=23.68, low=23.540001, high=23.879998999999998, volume=5431600.0, quarter=1, year=2012, period_ending=datetime.datetime(2012, 3, 2, 19, 0), accounts_payable=7876000000.0, accounts_receivable=41000000.0, add'l_income/expense_items=77000000.0, after_tax_roe=33.0, capital_expenditures=-766000000.0, capital_surplus=0.0, cash_ratio=14.0, cash_and_cash_equivalents=1199000000.0, changes_in_inventories=120000000.0, common_stocks=34000000.0, cost_of_revenue=34473000000.0, current_ratio=116.0, deferred_asset_charges=0.0, deferred_liability_charges=0.0, depreciation=945000000.0, earnings_before_interest_and_tax=2277000000.0, earnings_before_tax=2166000000.0, effect_of_exchange_rate=5000000.0, equity_earnings/loss_unconsolidated_subsidiary=0.0, fixed_assets=3471000000.0, goodwill=1335000000.0, gross_margin=24.0, gross_profit=10984000000.0, income_tax=742000000.0, intangible_assets=359000000.0, interest_expense=111000000.0, inventory=5731000000.0, investments=178000000.0, liabilities=576000000.0, long-term_debt=1685000000.0, long-term_investments=140000000.0, minority_interest=621000000.0, misc__stocks=0.0, net_borrowings=509000000.0, net_cash_flow=96000000.0, net_cash_flow-operating=3293000000.0, net_cash_flows-financing=-2478000000.0, net_cash_flows-investing=-724000000.0, net_income=-1231000000.0, net_income_adjustments=1613000000.0, net_income_applicable_to_common_shareholders=-1231000000.0, net_income-cont__operations=1424000000.0, net_receivables=2288000000.0, non-recurring_items=29000000.0, operating_income=2200000000.0, operating_margin=5.0, other_assets=403000000.0, other_current_assets=1079000000.0, other_current_liabilities=456000000.0, other_equity=90000000.0, other_financing_activities=-23000000.0, other_investing_activities=-136000000.0, other_liabilities=1099000000.0, other_operating_activities=-24000000.0, other_operating_items=0.0, pre-tax_margin=5.0, pre-tax_roe=58.0, profit_margin=3.0, quick_ratio=52.0, research_and_development=0.0, retained_earnings=3621000000.0, sale_and_purchase_of_stock=-1433000000.0, sales,_general_and_admin_=8755000000.0, short-term_debt_/_current_portion_of_long-term_debt=523000000.0, short-term_investments=0.0, total_assets=16005000000.0, total_current_assets=10297000000.0, total_current_liabilities=8855000000.0, total_equity=3745000000.0, total_liabilities=12260000000.0, total_liabilities_&_equity=16005000000.0, total_revenue=45457000000.0, treasury_stock=0.0, for_year=2012.0, earnings_per_share=-3.36, estimated_shares_outstanding=366369047.619, symbolIndex=392.0, symbolVec=SparseVector(444, {392: 1.0}))]"
      ]
     },
     "execution_count": 45,
     "metadata": {},
     "output_type": "execute_result"
    }
   ],
   "source": [
    "df.cache()\n",
    "df.take(1)"
   ]
  },
  {
   "cell_type": "code",
   "execution_count": null,
   "metadata": {},
   "outputs": [],
   "source": []
  }
 ],
 "metadata": {
  "kernelspec": {
   "display_name": "DS 5559",
   "language": "python",
   "name": "ds5559"
  },
  "language_info": {
   "codemirror_mode": {
    "name": "ipython",
    "version": 3
   },
   "file_extension": ".py",
   "mimetype": "text/x-python",
   "name": "python",
   "nbconvert_exporter": "python",
   "pygments_lexer": "ipython3",
   "version": "3.7.6"
  }
 },
 "nbformat": 4,
 "nbformat_minor": 4
}
