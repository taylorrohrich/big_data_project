{
 "cells": [
  {
   "cell_type": "markdown",
   "metadata": {},
   "source": [
    "# Big Data Project\n",
    "### Taylor Rohrich (trr2as) Alex Stern (acs4wq) Chirag Kulkarni (ck3fz)"
   ]
  },
  {
   "cell_type": "code",
   "execution_count": 22,
   "metadata": {},
   "outputs": [],
   "source": [
    "import pandas as pd\n",
    "import numpy as np\n",
    "import matplotlib.pyplot as plt\n",
    "from pandas.tseries.holiday import USFederalHolidayCalendar as calendar"
   ]
  },
  {
   "cell_type": "markdown",
   "metadata": {},
   "source": [
    "## Part 1: Data Exploration\n",
    "\n",
    "### This part is the one part done in Pandas just because of the simple API available -- all other work data preprocessing is done in PySpark"
   ]
  },
  {
   "cell_type": "code",
   "execution_count": 33,
   "metadata": {},
   "outputs": [],
   "source": [
    "prices = pd.read_csv('prices_response.csv')\n",
    "fundamentals = pd.read_csv('fundamentals.csv')"
   ]
  },
  {
   "cell_type": "code",
   "execution_count": 34,
   "metadata": {},
   "outputs": [],
   "source": [
    "prices['date']= pd.to_datetime(prices[\"date\"])"
   ]
  },
  {
   "cell_type": "code",
   "execution_count": 35,
   "metadata": {},
   "outputs": [],
   "source": [
    "prices['quarter'] = prices['date'].dt.quarter\n",
    "prices['year']=prices['date'].dt.year\n",
    "prices['dayofweek']= prices['date'].dt.weekday\n",
    "prices['month']= prices['date'].dt.month\n",
    "prices['dayofmonth']= prices['date'].dt.day"
   ]
  },
  {
   "cell_type": "code",
   "execution_count": 36,
   "metadata": {},
   "outputs": [],
   "source": [
    "cal = calendar()\n",
    "holidays = cal.holidays()\n",
    "prices['isholiday'] = prices['date'].isin(holidays).replace({True:1,False:0})\n",
    "prices = prices.loc[~prices['futurePrice'].isna()]"
   ]
  },
  {
   "cell_type": "code",
   "execution_count": 37,
   "metadata": {},
   "outputs": [],
   "source": [
    "fundamentals.drop(columns=[fundamentals.columns[0]],inplace=True)\n",
    "fundamentals.columns=fundamentals.columns.map(lambda x: \"_\".join(x.lower().replace(\".\",\"_\").split(\" \")))\n",
    "fundamentals = fundamentals.rename(columns={'ticker_symbol':'symbol','sales,_general_and_admin_':'sales_general_and_admin_'})\n",
    "fundamentals['date']= pd.to_datetime(fundamentals[\"period_ending\"])\n",
    "fundamentals['quarter'] = fundamentals['date'].dt.quarter\n",
    "fundamentals['year']=fundamentals['date'].dt.year\n",
    "fundamentals.drop(columns=['date'],inplace=True)"
   ]
  },
  {
   "cell_type": "code",
   "execution_count": 38,
   "metadata": {},
   "outputs": [],
   "source": [
    "combined = prices.merge(fundamentals,on=['symbol','year','quarter'],how='left')"
   ]
  },
  {
   "cell_type": "code",
   "execution_count": 39,
   "metadata": {},
   "outputs": [],
   "source": [
    "combined.to_csv('stocks.csv',index=False)"
   ]
  },
  {
   "cell_type": "markdown",
   "metadata": {},
   "source": [
    "### Number of Records"
   ]
  },
  {
   "cell_type": "code",
   "execution_count": 28,
   "metadata": {},
   "outputs": [
    {
     "ename": "NameError",
     "evalue": "name 'combined' is not defined",
     "output_type": "error",
     "traceback": [
      "\u001b[0;31m---------------------------------------------------------------------------\u001b[0m",
      "\u001b[0;31mNameError\u001b[0m                                 Traceback (most recent call last)",
      "\u001b[0;32m<ipython-input-28-2aa0497d590c>\u001b[0m in \u001b[0;36m<module>\u001b[0;34m\u001b[0m\n\u001b[0;32m----> 1\u001b[0;31m \u001b[0mlen\u001b[0m\u001b[0;34m(\u001b[0m\u001b[0mcombined\u001b[0m\u001b[0;34m)\u001b[0m\u001b[0;34m\u001b[0m\u001b[0;34m\u001b[0m\u001b[0m\n\u001b[0m",
      "\u001b[0;31mNameError\u001b[0m: name 'combined' is not defined"
     ]
    }
   ],
   "source": [
    "len(combined)"
   ]
  },
  {
   "cell_type": "markdown",
   "metadata": {},
   "source": [
    "### Number of Columns"
   ]
  },
  {
   "cell_type": "code",
   "execution_count": 12,
   "metadata": {},
   "outputs": [
    {
     "data": {
      "text/plain": [
       "86"
      ]
     },
     "execution_count": 12,
     "metadata": {},
     "output_type": "execute_result"
    }
   ],
   "source": [
    "len(combined.columns)"
   ]
  },
  {
   "cell_type": "markdown",
   "metadata": {},
   "source": [
    "### Statistical Summary of Response Variable"
   ]
  },
  {
   "cell_type": "code",
   "execution_count": 13,
   "metadata": {},
   "outputs": [
    {
     "data": {
      "text/plain": [
       "count    851264.000000\n",
       "mean         65.011913\n",
       "std          75.201216\n",
       "min           1.590000\n",
       "25%          31.292776\n",
       "50%          48.480000\n",
       "75%          75.139999\n",
       "max        1578.130005\n",
       "Name: close, dtype: float64"
      ]
     },
     "execution_count": 13,
     "metadata": {},
     "output_type": "execute_result"
    }
   ],
   "source": [
    "response = combined['close']\n",
    "response.describe()"
   ]
  },
  {
   "cell_type": "markdown",
   "metadata": {},
   "source": [
    "### Statistical Summary of (Top 10) Predictor Variables"
   ]
  },
  {
   "cell_type": "code",
   "execution_count": 14,
   "metadata": {},
   "outputs": [],
   "source": [
    "selectedCols = ['date', 'symbol', 'open', 'volume',\n",
    "       'year','cash_ratio','accounts_payable','gross_profit','net_income','long-term_debt']"
   ]
  },
  {
   "cell_type": "code",
   "execution_count": 15,
   "metadata": {},
   "outputs": [],
   "source": [
    "parsed =combined[selectedCols]"
   ]
  },
  {
   "cell_type": "markdown",
   "metadata": {},
   "source": [
    "#### Numerical Columns"
   ]
  },
  {
   "cell_type": "code",
   "execution_count": 16,
   "metadata": {},
   "outputs": [
    {
     "data": {
      "text/html": [
       "<div>\n",
       "<style scoped>\n",
       "    .dataframe tbody tr th:only-of-type {\n",
       "        vertical-align: middle;\n",
       "    }\n",
       "\n",
       "    .dataframe tbody tr th {\n",
       "        vertical-align: top;\n",
       "    }\n",
       "\n",
       "    .dataframe thead th {\n",
       "        text-align: right;\n",
       "    }\n",
       "</style>\n",
       "<table border=\"1\" class=\"dataframe\">\n",
       "  <thead>\n",
       "    <tr style=\"text-align: right;\">\n",
       "      <th></th>\n",
       "      <th>open</th>\n",
       "      <th>volume</th>\n",
       "      <th>year</th>\n",
       "      <th>cash_ratio</th>\n",
       "      <th>accounts_payable</th>\n",
       "      <th>gross_profit</th>\n",
       "      <th>net_income</th>\n",
       "      <th>long-term_debt</th>\n",
       "    </tr>\n",
       "  </thead>\n",
       "  <tbody>\n",
       "    <tr>\n",
       "      <th>count</th>\n",
       "      <td>851264.000000</td>\n",
       "      <td>8.512640e+05</td>\n",
       "      <td>851264.000000</td>\n",
       "      <td>92343.000000</td>\n",
       "      <td>1.105870e+05</td>\n",
       "      <td>1.105870e+05</td>\n",
       "      <td>1.105870e+05</td>\n",
       "      <td>1.105870e+05</td>\n",
       "    </tr>\n",
       "    <tr>\n",
       "      <th>mean</th>\n",
       "      <td>64.993618</td>\n",
       "      <td>5.415113e+06</td>\n",
       "      <td>2013.050484</td>\n",
       "      <td>74.118352</td>\n",
       "      <td>4.720886e+09</td>\n",
       "      <td>7.245806e+09</td>\n",
       "      <td>1.726976e+09</td>\n",
       "      <td>8.623500e+09</td>\n",
       "    </tr>\n",
       "    <tr>\n",
       "      <th>std</th>\n",
       "      <td>75.203893</td>\n",
       "      <td>1.249468e+07</td>\n",
       "      <td>2.001677</td>\n",
       "      <td>102.086434</td>\n",
       "      <td>1.418720e+10</td>\n",
       "      <td>1.367024e+10</td>\n",
       "      <td>4.031062e+09</td>\n",
       "      <td>2.778930e+10</td>\n",
       "    </tr>\n",
       "    <tr>\n",
       "      <th>min</th>\n",
       "      <td>1.660000</td>\n",
       "      <td>0.000000e+00</td>\n",
       "      <td>2010.000000</td>\n",
       "      <td>0.000000</td>\n",
       "      <td>0.000000e+00</td>\n",
       "      <td>-1.264700e+10</td>\n",
       "      <td>-2.352800e+10</td>\n",
       "      <td>0.000000e+00</td>\n",
       "    </tr>\n",
       "    <tr>\n",
       "      <th>25%</th>\n",
       "      <td>31.270000</td>\n",
       "      <td>1.221500e+06</td>\n",
       "      <td>2011.000000</td>\n",
       "      <td>17.000000</td>\n",
       "      <td>5.408000e+08</td>\n",
       "      <td>1.599800e+09</td>\n",
       "      <td>3.568000e+08</td>\n",
       "      <td>1.150100e+09</td>\n",
       "    </tr>\n",
       "    <tr>\n",
       "      <th>50%</th>\n",
       "      <td>48.459999</td>\n",
       "      <td>2.476250e+06</td>\n",
       "      <td>2013.000000</td>\n",
       "      <td>41.000000</td>\n",
       "      <td>1.354000e+09</td>\n",
       "      <td>3.010000e+09</td>\n",
       "      <td>6.929570e+08</td>\n",
       "      <td>3.401500e+09</td>\n",
       "    </tr>\n",
       "    <tr>\n",
       "      <th>75%</th>\n",
       "      <td>75.120003</td>\n",
       "      <td>5.222500e+06</td>\n",
       "      <td>2015.000000</td>\n",
       "      <td>90.000000</td>\n",
       "      <td>3.247000e+09</td>\n",
       "      <td>6.956200e+09</td>\n",
       "      <td>1.719000e+09</td>\n",
       "      <td>7.873667e+09</td>\n",
       "    </tr>\n",
       "    <tr>\n",
       "      <th>max</th>\n",
       "      <td>1584.439941</td>\n",
       "      <td>8.596434e+08</td>\n",
       "      <td>2016.000000</td>\n",
       "      <td>1041.000000</td>\n",
       "      <td>2.069390e+11</td>\n",
       "      <td>1.494530e+11</td>\n",
       "      <td>5.339400e+10</td>\n",
       "      <td>4.291940e+11</td>\n",
       "    </tr>\n",
       "  </tbody>\n",
       "</table>\n",
       "</div>"
      ],
      "text/plain": [
       "                open        volume           year    cash_ratio  \\\n",
       "count  851264.000000  8.512640e+05  851264.000000  92343.000000   \n",
       "mean       64.993618  5.415113e+06    2013.050484     74.118352   \n",
       "std        75.203893  1.249468e+07       2.001677    102.086434   \n",
       "min         1.660000  0.000000e+00    2010.000000      0.000000   \n",
       "25%        31.270000  1.221500e+06    2011.000000     17.000000   \n",
       "50%        48.459999  2.476250e+06    2013.000000     41.000000   \n",
       "75%        75.120003  5.222500e+06    2015.000000     90.000000   \n",
       "max      1584.439941  8.596434e+08    2016.000000   1041.000000   \n",
       "\n",
       "       accounts_payable  gross_profit    net_income  long-term_debt  \n",
       "count      1.105870e+05  1.105870e+05  1.105870e+05    1.105870e+05  \n",
       "mean       4.720886e+09  7.245806e+09  1.726976e+09    8.623500e+09  \n",
       "std        1.418720e+10  1.367024e+10  4.031062e+09    2.778930e+10  \n",
       "min        0.000000e+00 -1.264700e+10 -2.352800e+10    0.000000e+00  \n",
       "25%        5.408000e+08  1.599800e+09  3.568000e+08    1.150100e+09  \n",
       "50%        1.354000e+09  3.010000e+09  6.929570e+08    3.401500e+09  \n",
       "75%        3.247000e+09  6.956200e+09  1.719000e+09    7.873667e+09  \n",
       "max        2.069390e+11  1.494530e+11  5.339400e+10    4.291940e+11  "
      ]
     },
     "execution_count": 16,
     "metadata": {},
     "output_type": "execute_result"
    }
   ],
   "source": [
    "parsed.describe()"
   ]
  },
  {
   "cell_type": "markdown",
   "metadata": {},
   "source": [
    "#### Categorical Column"
   ]
  },
  {
   "cell_type": "code",
   "execution_count": 98,
   "metadata": {},
   "outputs": [
    {
     "data": {
      "text/plain": [
       "C       1762\n",
       "AIG     1762\n",
       "PEG     1762\n",
       "PHM     1762\n",
       "IDXX    1762\n",
       "        ... \n",
       "KHC      378\n",
       "HPE      304\n",
       "CSRA     284\n",
       "WLTW     251\n",
       "FTV      126\n",
       "Name: symbol, Length: 501, dtype: int64"
      ]
     },
     "execution_count": 98,
     "metadata": {},
     "output_type": "execute_result"
    }
   ],
   "source": [
    "combined['symbol'].value_counts()"
   ]
  },
  {
   "cell_type": "markdown",
   "metadata": {},
   "source": [
    "### Helpful Graphs"
   ]
  },
  {
   "cell_type": "markdown",
   "metadata": {},
   "source": [
    "#### Correlation Matrix of the Top 10 Predictors"
   ]
  },
  {
   "cell_type": "code",
   "execution_count": 99,
   "metadata": {},
   "outputs": [
    {
     "data": {
      "image/png": "[encoded data removed]",
      "text/plain": [
       "<Figure size 288x288 with 1 Axes>"
      ]
     },
     "metadata": {
      "needs_background": "light"
     },
     "output_type": "display_data"
    }
   ],
   "source": [
    "plt.matshow(parsed.corr())\n",
    "plt.show()"
   ]
  },
  {
   "cell_type": "markdown",
   "metadata": {},
   "source": [
    "#### Histogram of Gross Profit"
   ]
  },
  {
   "cell_type": "code",
   "execution_count": 100,
   "metadata": {},
   "outputs": [
    {
     "name": "stderr",
     "output_type": "stream",
     "text": [
      "/opt/conda/lib/python3.7/site-packages/numpy/lib/histograms.py:839: RuntimeWarning: invalid value encountered in greater_equal\n",
      "  keep = (tmp_a >= first_edge)\n",
      "/opt/conda/lib/python3.7/site-packages/numpy/lib/histograms.py:840: RuntimeWarning: invalid value encountered in less_equal\n",
      "  keep &= (tmp_a <= last_edge)\n"
     ]
    },
    {
     "data": {
      "text/plain": [
       "(array([6.4000e+01, 6.1433e+04, 3.3246e+04, 7.6180e+03, 2.7120e+03,\n",
       "        2.1580e+03, 6.3700e+02, 3.7900e+02, 3.8100e+02, 4.4400e+02,\n",
       "        3.8000e+02, 3.2000e+02, 1.2800e+02, 2.5400e+02, 0.0000e+00,\n",
       "        6.0000e+01, 1.8300e+02, 6.4000e+01, 6.4000e+01, 6.2000e+01]),\n",
       " array([-1.26470e+10, -4.54200e+09,  3.56300e+09,  1.16680e+10,\n",
       "         1.97730e+10,  2.78780e+10,  3.59830e+10,  4.40880e+10,\n",
       "         5.21930e+10,  6.02980e+10,  6.84030e+10,  7.65080e+10,\n",
       "         8.46130e+10,  9.27180e+10,  1.00823e+11,  1.08928e+11,\n",
       "         1.17033e+11,  1.25138e+11,  1.33243e+11,  1.41348e+11,\n",
       "         1.49453e+11]),\n",
       " <a list of 20 Patch objects>)"
      ]
     },
     "execution_count": 100,
     "metadata": {},
     "output_type": "execute_result"
    },
    {
     "data": {
      "image/png": "[encoded data removed]",
      "text/plain": [
       "<Figure size 432x288 with 1 Axes>"
      ]
     },
     "metadata": {
      "needs_background": "light"
     },
     "output_type": "display_data"
    }
   ],
   "source": [
    "plt.hist(parsed['gross_profit'],bins=20)"
   ]
  },
  {
   "cell_type": "markdown",
   "metadata": {},
   "source": [
    "### Average Open By Day"
   ]
  },
  {
   "cell_type": "code",
   "execution_count": 101,
   "metadata": {},
   "outputs": [
    {
     "data": {
      "image/png": "[encoded data removed]",
      "text/plain": [
       "<Figure size 1440x720 with 1 Axes>"
      ]
     },
     "metadata": {
      "needs_background": "light"
     },
     "output_type": "display_data"
    }
   ],
   "source": [
    "year_breakdown = combined.groupby(['date'])['open'].mean().reset_index()\n",
    "plt.figure(figsize=(20,10))\n",
    "plt.scatter(year_breakdown['date'],year_breakdown['open'])\n",
    "plt.show()"
   ]
  },
  {
   "cell_type": "markdown",
   "metadata": {},
   "source": [
    "### Specific Stocks"
   ]
  },
  {
   "cell_type": "code",
   "execution_count": 102,
   "metadata": {},
   "outputs": [
    {
     "data": {
      "image/png": "[encoded data removed]",
      "text/plain": [
       "<Figure size 431.875x360 with 1 Axes>"
      ]
     },
     "metadata": {
      "needs_background": "light"
     },
     "output_type": "display_data"
    }
   ],
   "source": [
    "import seaborn as sns\n",
    "sns.relplot(x='date', y='open', hue='symbol', kind='line', data=prices[prices['symbol'].isin(['AAPL', 'UAL', 'MSFT'])]);"
   ]
  },
  {
   "cell_type": "markdown",
   "metadata": {},
   "source": [
    "### Average Net Income By Year Quarter"
   ]
  },
  {
   "cell_type": "code",
   "execution_count": 103,
   "metadata": {},
   "outputs": [],
   "source": [
    "year_breakdown = combined.groupby(['year','quarter'])['net_income'].mean().reset_index()"
   ]
  },
  {
   "cell_type": "code",
   "execution_count": 104,
   "metadata": {},
   "outputs": [],
   "source": [
    "x = year_breakdown['year'].astype(str)+ \"Q\" + year_breakdown['quarter'].astype(str)"
   ]
  },
  {
   "cell_type": "code",
   "execution_count": 105,
   "metadata": {},
   "outputs": [
    {
     "data": {
      "image/png": "[encoded data removed]",
      "text/plain": [
       "<Figure size 1440x720 with 1 Axes>"
      ]
     },
     "metadata": {
      "needs_background": "light"
     },
     "output_type": "display_data"
    }
   ],
   "source": [
    "plt.figure(figsize=(20,10))\n",
    "plt.scatter(x,year_breakdown['net_income'])\n",
    "plt.show()"
   ]
  },
  {
   "cell_type": "markdown",
   "metadata": {},
   "source": [
    "## Part 2: Data Preprocessing"
   ]
  },
  {
   "cell_type": "code",
   "execution_count": 1,
   "metadata": {},
   "outputs": [],
   "source": [
    "from pyspark.mllib.stat import Statistics\n",
    "from pyspark.sql import SparkSession\n",
    "from pyspark.sql.functions import col \n",
    "from pyspark.ml.feature import StandardScaler,Bucketizer\n",
    "from pyspark.sql.types import FloatType\n",
    "from pyspark.sql.functions import isnan, when, count, col\n",
    "from pyspark.ml import Pipeline,PipelineModel\n",
    "from pyspark.ml.regression import GBTRegressor\n",
    "from pyspark.ml.feature import VectorIndexer\n",
    "from pyspark.ml.evaluation import RegressionEvaluator\n",
    "# import data types\n",
    "from pyspark.sql.types import StructType, StructField, StringType, IntegerType\n",
    "spark = SparkSession.builder.getOrCreate()"
   ]
  },
  {
   "cell_type": "code",
   "execution_count": 2,
   "metadata": {},
   "outputs": [
    {
     "data": {
      "text/plain": [
       "DataFrame[date: timestamp, symbol: string, open: double, close: double, low: double, high: double, volume: double, dateLagged: timestamp, futurePrice: double, quarter: int, year: int, dayofweek: int, month: int, dayofmonth: int, isholiday: int, period_ending: timestamp, accounts_payable: double, accounts_receivable: double, add'l_income/expense_items: double, after_tax_roe: double, capital_expenditures: double, capital_surplus: double, cash_ratio: double, cash_and_cash_equivalents: double, changes_in_inventories: double, common_stocks: double, cost_of_revenue: double, current_ratio: double, deferred_asset_charges: double, deferred_liability_charges: double, depreciation: double, earnings_before_interest_and_tax: double, earnings_before_tax: double, effect_of_exchange_rate: double, equity_earnings/loss_unconsolidated_subsidiary: double, fixed_assets: double, goodwill: double, gross_margin: double, gross_profit: double, income_tax: double, intangible_assets: double, interest_expense: double, inventory: double, investments: double, liabilities: double, long-term_debt: double, long-term_investments: double, minority_interest: double, misc__stocks: double, net_borrowings: double, net_cash_flow: double, net_cash_flow-operating: double, net_cash_flows-financing: double, net_cash_flows-investing: double, net_income: double, net_income_adjustments: double, net_income_applicable_to_common_shareholders: double, net_income-cont__operations: double, net_receivables: double, non-recurring_items: double, operating_income: double, operating_margin: double, other_assets: double, other_current_assets: double, other_current_liabilities: double, other_equity: double, other_financing_activities: double, other_investing_activities: double, other_liabilities: double, other_operating_activities: double, other_operating_items: double, pre-tax_margin: double, pre-tax_roe: double, profit_margin: double, quick_ratio: double, research_and_development: double, retained_earnings: double, sale_and_purchase_of_stock: double, sales_general_and_admin_: double, short-term_debt_/_current_portion_of_long-term_debt: double, short-term_investments: double, total_assets: double, total_current_assets: double, total_current_liabilities: double, total_equity: double, total_liabilities: double, total_liabilities_&_equity: double, total_revenue: double, treasury_stock: double, for_year: double, earnings_per_share: double, estimated_shares_outstanding: double]"
      ]
     },
     "execution_count": 2,
     "metadata": {},
     "output_type": "execute_result"
    }
   ],
   "source": [
    "# read text file into pyspark dataframe\n",
    "# schema = StructType([StructField(col, FloatType(), True) for col in combined.columns])\n",
    "\n",
    "filename = 'stocks.csv'\n",
    "df = spark.read.csv(filename, inferSchema=True, header = True)\n",
    "# df = df.withColumn(\"date\", df[\"date\"].cast(\"int\"))\n",
    "# df = df.withColumn(\"period_ending\", df[\"period_ending\"].cast(\"float\"))\n",
    "df.cache()"
   ]
  },
  {
   "cell_type": "markdown",
   "metadata": {},
   "source": [
    "#### Cast Columns to Different types"
   ]
  },
  {
   "cell_type": "code",
   "execution_count": 3,
   "metadata": {},
   "outputs": [],
   "source": [
    "from pyspark.ml import Pipeline, Transformer\n",
    "from pyspark.ml.util import DefaultParamsWritable,DefaultParamsReadable\n",
    "# CUSTOM TRANSFORMER ----------------------------------------------------------------\n",
    "class ChangeColumnType(Transformer, DefaultParamsWritable, DefaultParamsReadable):\n",
    "    \"\"\"\n",
    "    A custom Transformer which drops all columns that have at least one of the\n",
    "    words from the banned_list in the name.\n",
    "    \"\"\"\n",
    "\n",
    "    def __init__(self,inputCols=None, outputCol=None):\n",
    "        super(ChangeColumnType, self).__init__()\n",
    "        self.inputCols = inputCols\n",
    "\n",
    "    def _transform(self, df):\n",
    "        for column, dataType in self.inputCols:\n",
    "            df = df.withColumn(column, df[column].cast(dataType))\n",
    "        return df"
   ]
  },
  {
   "cell_type": "code",
   "execution_count": 4,
   "metadata": {},
   "outputs": [],
   "source": [
    "changeColumnType = ChangeColumnType(inputCols = [('date','int')])"
   ]
  },
  {
   "cell_type": "markdown",
   "metadata": {},
   "source": [
    "#### Filling NA's"
   ]
  },
  {
   "cell_type": "code",
   "execution_count": 5,
   "metadata": {},
   "outputs": [],
   "source": [
    "from pyspark.ml.feature import Imputer\n",
    "missingCols = ['accounts_payable', 'accounts_receivable',\n",
    "       \"add'l_income/expense_items\", 'after_tax_roe', 'capital_expenditures',\n",
    "       'capital_surplus', 'cash_ratio', 'cash_and_cash_equivalents',\n",
    "       'changes_in_inventories', 'common_stocks', 'cost_of_revenue',\n",
    "       'current_ratio', 'deferred_asset_charges', 'deferred_liability_charges',\n",
    "       'depreciation', 'earnings_before_interest_and_tax',\n",
    "       'earnings_before_tax', 'effect_of_exchange_rate',\n",
    "       'equity_earnings/loss_unconsolidated_subsidiary', 'fixed_assets',\n",
    "       'goodwill', 'gross_margin', 'gross_profit', 'income_tax',\n",
    "       'intangible_assets', 'interest_expense', 'inventory', 'investments',\n",
    "       'liabilities', 'long-term_debt', 'long-term_investments',\n",
    "       'minority_interest', 'misc__stocks', 'net_borrowings', 'net_cash_flow',\n",
    "       'net_cash_flow-operating', 'net_cash_flows-financing',\n",
    "       'net_cash_flows-investing', 'net_income', 'net_income_adjustments',\n",
    "       'net_income_applicable_to_common_shareholders',\n",
    "       'net_income-cont__operations', 'net_receivables', 'non-recurring_items',\n",
    "       'operating_income', 'operating_margin', 'other_assets',\n",
    "       'other_current_assets', 'other_current_liabilities', 'other_equity',\n",
    "       'other_financing_activities', 'other_investing_activities',\n",
    "       'other_liabilities', 'other_operating_activities',\n",
    "       'other_operating_items', 'pre-tax_margin', 'pre-tax_roe',\n",
    "       'profit_margin', 'quick_ratio', 'research_and_development',\n",
    "       'retained_earnings', 'sale_and_purchase_of_stock',\n",
    "       'sales_general_and_admin_',\n",
    "       'short-term_debt_/_current_portion_of_long-term_debt',\n",
    "       'short-term_investments', 'total_assets', 'total_current_assets',\n",
    "       'total_current_liabilities', 'total_equity', 'total_liabilities',\n",
    "       'total_liabilities_&_equity', 'total_revenue', 'treasury_stock',\n",
    "       'for_year', 'earnings_per_share', 'estimated_shares_outstanding']\n",
    "output = [f'{column}_out' for column in missingCols]\n",
    "imputer = Imputer(inputCols=missingCols, outputCols=missingCols)\n",
    "model = imputer.fit(df)"
   ]
  },
  {
   "cell_type": "markdown",
   "metadata": {},
   "source": [
    "#### Convert String Ticker to Index"
   ]
  },
  {
   "cell_type": "code",
   "execution_count": 6,
   "metadata": {},
   "outputs": [],
   "source": [
    "from pyspark.ml.feature import StringIndexer"
   ]
  },
  {
   "cell_type": "code",
   "execution_count": 7,
   "metadata": {},
   "outputs": [
    {
     "data": {
      "text/plain": [
       "StringIndexer_583ed6dbdd2c"
      ]
     },
     "execution_count": 7,
     "metadata": {},
     "output_type": "execute_result"
    }
   ],
   "source": [
    "indexer = StringIndexer(inputCol=\"symbol\", outputCol=\"symbolIndex\")\n",
    "indexer.fit(df)"
   ]
  },
  {
   "cell_type": "markdown",
   "metadata": {},
   "source": [
    "#### Create Response"
   ]
  },
  {
   "cell_type": "code",
   "execution_count": 8,
   "metadata": {},
   "outputs": [],
   "source": [
    "from pyspark.ml import Pipeline, Transformer\n",
    "from pyspark.sql.functions import udf\n",
    "def stockImproved(s):\n",
    "    return 1 if s > 0 else 0\n",
    "# CUSTOM TRANSFORMER ----------------------------------------------------------------\n",
    "class CreateResponseVariable(Transformer, DefaultParamsWritable, DefaultParamsReadable):\n",
    "    \"\"\"\n",
    "    A custom Transformer which drops all columns that have at least one of the\n",
    "    words from the banned_list in the name.\n",
    "    \"\"\"\n",
    "    def __init__(self,inputCol=None, outputCol=None):\n",
    "        super(CreateResponseVariable, self).__init__()\n",
    "\n",
    "    def _transform(self, df):\n",
    "        df= df.withColumn('difference',col('futurePrice')-col('close'))\n",
    "        stockImproved_udf = udf(stockImproved)\n",
    "        df = df.withColumn(\"label\", stockImproved_udf('difference').cast('integer'))\n",
    "        return df"
   ]
  },
  {
   "cell_type": "code",
   "execution_count": 9,
   "metadata": {},
   "outputs": [],
   "source": [
    "responseVariable = CreateResponseVariable()"
   ]
  },
  {
   "cell_type": "markdown",
   "metadata": {},
   "source": [
    "#### One Hot Encode"
   ]
  },
  {
   "cell_type": "code",
   "execution_count": 10,
   "metadata": {},
   "outputs": [],
   "source": [
    "from pyspark.ml.feature import OneHotEncoder, StringIndexer\n",
    "# Automatically identify categorical features, and index them.\n",
    "# Set maxCategories so features with > 4 distinct values are treated as continuous.\n",
    "encoder = OneHotEncoder(inputCol=\"symbolIndex\", outputCol=\"symbolVec\")\n",
    "# model = encoder.fit(indexed)\n",
    "# encoded = model.transform(indexed)\n",
    "# encoded.show()"
   ]
  },
  {
   "cell_type": "markdown",
   "metadata": {},
   "source": [
    "#### Get Features"
   ]
  },
  {
   "cell_type": "code",
   "execution_count": 11,
   "metadata": {},
   "outputs": [],
   "source": [
    "from pyspark.ml.feature import VectorAssembler\n",
    "vars_to_keep = [\"label\",'open','close',\n",
    "               'year','dayofweek','dayofmonth','month','date','symbolIndex','gross_profit','long-term_debt','close']\n",
    "features = [column for column in vars_to_keep if column !='label']\n",
    "getFeatures = VectorAssembler(inputCols=features, outputCol=\"features\")"
   ]
  },
  {
   "cell_type": "markdown",
   "metadata": {},
   "source": [
    "#### Train Test Split"
   ]
  },
  {
   "cell_type": "code",
   "execution_count": 12,
   "metadata": {},
   "outputs": [],
   "source": [
    "# Split the data into training and test sets (30% held out for testing)\n",
    "(trainingData, testData) = df.randomSplit([0.7, 0.3])\n"
   ]
  },
  {
   "cell_type": "markdown",
   "metadata": {},
   "source": [
    "## Part 3: Model Building"
   ]
  },
  {
   "cell_type": "code",
   "execution_count": 13,
   "metadata": {},
   "outputs": [],
   "source": [
    "def getAccuracy(predictions):\n",
    "    return predictions.rdd.map(lambda lp: (lp['label'] ==lp['prediction'])).sum() / predictions.count()"
   ]
  },
  {
   "cell_type": "markdown",
   "metadata": {},
   "source": [
    "### 1. Gradient Boosted Tree"
   ]
  },
  {
   "cell_type": "code",
   "execution_count": 16,
   "metadata": {},
   "outputs": [],
   "source": [
    "from pyspark.ml.classification import GBTClassifier\n",
    "# Train a GBT model.\n",
    "gbt = GBTClassifier(featuresCol=\"features\",labelCol = 'label', maxIter=10)\n",
    "\n",
    "# Chain indexer and GBT in a Pipeline\n",
    "pipeline = Pipeline(stages=[changeColumnType,imputer,indexer,responseVariable,encoder,getFeatures,gbt])\n",
    "\n",
    "# # Train model.  This also runs the indexer.\n",
    "# model = pipeline.fit(trainingData)\n",
    "\n",
    "# # Make predictions.\n",
    "# predictions = model.transform(testData)"
   ]
  },
  {
   "cell_type": "code",
   "execution_count": 15,
   "metadata": {},
   "outputs": [
    {
     "ename": "NameError",
     "evalue": "name 'predictions' is not defined",
     "output_type": "error",
     "traceback": [
      "\u001b[0;31m---------------------------------------------------------------------------\u001b[0m",
      "\u001b[0;31mNameError\u001b[0m                                 Traceback (most recent call last)",
      "\u001b[0;32m<ipython-input-15-6335e2b1f17b>\u001b[0m in \u001b[0;36m<module>\u001b[0;34m\u001b[0m\n\u001b[1;32m      3\u001b[0m \u001b[0;32mfrom\u001b[0m \u001b[0mpyspark\u001b[0m\u001b[0;34m.\u001b[0m\u001b[0msql\u001b[0m\u001b[0;34m.\u001b[0m\u001b[0mtypes\u001b[0m \u001b[0;32mimport\u001b[0m \u001b[0mFloatType\u001b[0m\u001b[0;34m\u001b[0m\u001b[0;34m\u001b[0m\u001b[0m\n\u001b[1;32m      4\u001b[0m \u001b[0;31m#important: need to cast to float type, and order by prediction, else it won't work\u001b[0m\u001b[0;34m\u001b[0m\u001b[0;34m\u001b[0m\u001b[0;34m\u001b[0m\u001b[0m\n\u001b[0;32m----> 5\u001b[0;31m \u001b[0mpreds_and_labels\u001b[0m \u001b[0;34m=\u001b[0m \u001b[0mpredictions\u001b[0m\u001b[0;34m.\u001b[0m\u001b[0mselect\u001b[0m\u001b[0;34m(\u001b[0m\u001b[0;34m[\u001b[0m\u001b[0;34m'prediction'\u001b[0m\u001b[0;34m,\u001b[0m\u001b[0;34m'stockImproved'\u001b[0m\u001b[0;34m]\u001b[0m\u001b[0;34m)\u001b[0m\u001b[0;34m.\u001b[0m\u001b[0mwithColumn\u001b[0m\u001b[0;34m(\u001b[0m\u001b[0;34m'label'\u001b[0m\u001b[0;34m,\u001b[0m \u001b[0mF\u001b[0m\u001b[0;34m.\u001b[0m\u001b[0mcol\u001b[0m\u001b[0;34m(\u001b[0m\u001b[0;34m'stockImproved'\u001b[0m\u001b[0;34m)\u001b[0m\u001b[0;34m.\u001b[0m\u001b[0mcast\u001b[0m\u001b[0;34m(\u001b[0m\u001b[0mFloatType\u001b[0m\u001b[0;34m(\u001b[0m\u001b[0;34m)\u001b[0m\u001b[0;34m)\u001b[0m\u001b[0;34m)\u001b[0m\u001b[0;34m.\u001b[0m\u001b[0morderBy\u001b[0m\u001b[0;34m(\u001b[0m\u001b[0;34m'prediction'\u001b[0m\u001b[0;34m)\u001b[0m\u001b[0;34m\u001b[0m\u001b[0;34m\u001b[0m\u001b[0m\n\u001b[0m\u001b[1;32m      6\u001b[0m \u001b[0;34m\u001b[0m\u001b[0m\n\u001b[1;32m      7\u001b[0m \u001b[0;31m#select only prediction and label columns\u001b[0m\u001b[0;34m\u001b[0m\u001b[0;34m\u001b[0m\u001b[0;34m\u001b[0m\u001b[0m\n",
      "\u001b[0;31mNameError\u001b[0m: name 'predictions' is not defined"
     ]
    }
   ],
   "source": [
    "# import pyspark.sql.functions as F\n",
    "# from pyspark.mllib.evaluation import MulticlassMetrics\n",
    "# from pyspark.sql.types import FloatType\n",
    "# #important: need to cast to float type, and order by prediction, else it won't work\n",
    "# preds_and_labels = predictions.select(['prediction','stockImproved']).withColumn('label', F.col('stockImproved').cast(FloatType())).orderBy('prediction')\n",
    "\n",
    "# #select only prediction and label columns\n",
    "# preds_and_labels = preds_and_labels.select(['prediction','label'])\n",
    "\n",
    "# metrics = MulticlassMetrics(preds_and_labels.rdd.map(tuple))\n",
    "\n",
    "# print(metrics.confusionMatrix().toArray())"
   ]
  },
  {
   "cell_type": "markdown",
   "metadata": {},
   "source": [
    "### Parameter Tuning"
   ]
  },
  {
   "cell_type": "code",
   "execution_count": 20,
   "metadata": {},
   "outputs": [
    {
     "name": "stdout",
     "output_type": "stream",
     "text": [
      "len(paramGrid): 4\n"
     ]
    }
   ],
   "source": [
    "from pyspark.ml.tuning import CrossValidator, ParamGridBuilder, TrainValidationSplit\n",
    "from pyspark.ml.evaluation import BinaryClassificationEvaluator\n",
    "# Set up the parameter grid\n",
    "paramGrid = ParamGridBuilder() \\\n",
    "    .addGrid(gbt.maxBins, [550, 700]) \\\n",
    "    .addGrid(gbt.maxDepth,[5,10]) \\\n",
    "    .build()\n",
    "\n",
    "print('len(paramGrid): {}'.format(len(paramGrid)))\n",
    "\n",
    "# Treat the Pipeline as an Estimator, wrapping it in a CrossValidator instance.\n",
    "trainval =  TrainValidationSplit(estimator=pipeline,\n",
    "                          estimatorParamMaps=paramGrid,\n",
    "                          evaluator=BinaryClassificationEvaluator()\n",
    "                         )\n"
   ]
  },
  {
   "cell_type": "code",
   "execution_count": 21,
   "metadata": {},
   "outputs": [
    {
     "name": "stdout",
     "output_type": "stream",
     "text": [
      "train time: 624.3759710788727\n"
     ]
    }
   ],
   "source": [
    "# Run cross-validation, and choose the best set of parameters. Print the training time.\n",
    "import time\n",
    "t0 = time.time()\n",
    "\n",
    "bestRandomForestModel = trainval.setParallelism(4).fit(trainingData) # train 4 models in parallel\n",
    "print(\"train time:\", time.time() - t0)\n",
    "\n",
    "# Make predictions on test documents. cvModel uses the best model found (lrModel).\n",
    "prediction = bestRandomForestModel.transform(testData)"
   ]
  },
  {
   "cell_type": "code",
   "execution_count": 23,
   "metadata": {},
   "outputs": [],
   "source": [
    "#https://stackoverflow.com/questions/51230726/extract-results-from-crossvalidator-with-paramgrid-in-pyspark\n",
    "params = [{p.name: v for p, v in m.items()} for m in bestRandomForestModel.getEstimatorParamMaps()]"
   ]
  },
  {
   "cell_type": "code",
   "execution_count": 25,
   "metadata": {},
   "outputs": [
    {
     "data": {
      "text/html": [
       "<div>\n",
       "<style scoped>\n",
       "    .dataframe tbody tr th:only-of-type {\n",
       "        vertical-align: middle;\n",
       "    }\n",
       "\n",
       "    .dataframe tbody tr th {\n",
       "        vertical-align: top;\n",
       "    }\n",
       "\n",
       "    .dataframe thead th {\n",
       "        text-align: right;\n",
       "    }\n",
       "</style>\n",
       "<table border=\"1\" class=\"dataframe\">\n",
       "  <thead>\n",
       "    <tr style=\"text-align: right;\">\n",
       "      <th></th>\n",
       "      <th>areaUnderROC</th>\n",
       "      <th>maxBins</th>\n",
       "      <th>maxDepth</th>\n",
       "    </tr>\n",
       "  </thead>\n",
       "  <tbody>\n",
       "    <tr>\n",
       "      <th>0</th>\n",
       "      <td>0.731846</td>\n",
       "      <td>550</td>\n",
       "      <td>5</td>\n",
       "    </tr>\n",
       "    <tr>\n",
       "      <th>1</th>\n",
       "      <td>0.845648</td>\n",
       "      <td>550</td>\n",
       "      <td>10</td>\n",
       "    </tr>\n",
       "    <tr>\n",
       "      <th>2</th>\n",
       "      <td>0.738461</td>\n",
       "      <td>700</td>\n",
       "      <td>5</td>\n",
       "    </tr>\n",
       "    <tr>\n",
       "      <th>3</th>\n",
       "      <td>0.831500</td>\n",
       "      <td>700</td>\n",
       "      <td>10</td>\n",
       "    </tr>\n",
       "  </tbody>\n",
       "</table>\n",
       "</div>"
      ],
      "text/plain": [
       "   areaUnderROC  maxBins  maxDepth\n",
       "0      0.731846      550         5\n",
       "1      0.845648      550        10\n",
       "2      0.738461      700         5\n",
       "3      0.831500      700        10"
      ]
     },
     "execution_count": 25,
     "metadata": {},
     "output_type": "execute_result"
    }
   ],
   "source": [
    "import pandas as pd\n",
    "\n",
    "pd.DataFrame.from_dict([\n",
    "    {bestRandomForestModel.getEvaluator().getMetricName(): metric, **ps} \n",
    "    for ps, metric in zip(params, bestRandomForestModel.validationMetrics)\n",
    "])"
   ]
  },
  {
   "cell_type": "markdown",
   "metadata": {},
   "source": [
    "### Run Best Model"
   ]
  },
  {
   "cell_type": "code",
   "execution_count": 26,
   "metadata": {},
   "outputs": [
    {
     "data": {
      "text/plain": [
       "0.759914496029297"
      ]
     },
     "execution_count": 26,
     "metadata": {},
     "output_type": "execute_result"
    }
   ],
   "source": [
    "predictions = bestRandomForestModel.transform(testData)\n",
    "getAccuracy(predictions)"
   ]
  },
  {
   "cell_type": "code",
   "execution_count": null,
   "metadata": {},
   "outputs": [],
   "source": [
    "# save best model\n",
    "bestRandomForestModel.save(\"tmp/best-tree-model\")"
   ]
  },
  {
   "cell_type": "markdown",
   "metadata": {},
   "source": [
    "### Size"
   ]
  },
  {
   "cell_type": "code",
   "execution_count": 97,
   "metadata": {},
   "outputs": [
    {
     "name": "stdout",
     "output_type": "stream",
     "text": [
      "1.4M\ttmp/best-tree-model\n"
     ]
    }
   ],
   "source": [
    "!du -sh tmp/best-tree-model"
   ]
  },
  {
   "cell_type": "code",
   "execution_count": 95,
   "metadata": {},
   "outputs": [],
   "source": [
    "pipelineModel = Pipeline.load(\"tmp/best-tree-model\")"
   ]
  },
  {
   "cell_type": "markdown",
   "metadata": {},
   "source": [
    "### 2. Logistic Regression"
   ]
  },
  {
   "cell_type": "code",
   "execution_count": 29,
   "metadata": {},
   "outputs": [],
   "source": [
    "from pyspark.ml.classification import LogisticRegression\n",
    "lr = LogisticRegression(featuresCol=\"features\",labelCol = 'label')\n",
    "\n",
    "pipeline = Pipeline(stages=[changeColumnType,imputer,indexer,responseVariable,encoder,getFeatures,lr])\n"
   ]
  },
  {
   "cell_type": "code",
   "execution_count": 30,
   "metadata": {},
   "outputs": [
    {
     "name": "stdout",
     "output_type": "stream",
     "text": [
      "len(paramGrid): 9\n"
     ]
    }
   ],
   "source": [
    "from pyspark.ml.tuning import CrossValidator, ParamGridBuilder\n",
    "from pyspark.ml.evaluation import BinaryClassificationEvaluator\n",
    "from pyspark.ml.tuning import ParamGridBuilder, TrainValidationSplit\n",
    "# Set up the parameter grid\n",
    "paramGrid = ParamGridBuilder() \\\n",
    "    .addGrid(lr.maxIter, [10,20, 30]) \\\n",
    "    .addGrid(lr.elasticNetParam,[0.1,0.5,0.9]) \\\n",
    "    .build()\n",
    "\n",
    "print('len(paramGrid): {}'.format(len(paramGrid)))\n",
    "\n",
    "# Treat the Pipeline as an Estimator, wrapping it in a CrossValidator instance.\n",
    "trainVal = TrainValidationSplit(estimator=pipeline,\n",
    "                          estimatorParamMaps=paramGrid,\n",
    "                          evaluator=BinaryClassificationEvaluator())\n"
   ]
  },
  {
   "cell_type": "code",
   "execution_count": 31,
   "metadata": {},
   "outputs": [
    {
     "name": "stdout",
     "output_type": "stream",
     "text": [
      "train time: 475.09101152420044\n"
     ]
    }
   ],
   "source": [
    "# Run cross-validation, and choose the best set of parameters. Print the training time.\n",
    "import time\n",
    "t0 = time.time()\n",
    "\n",
    "bestLrModel = trainVal.setParallelism(4).fit(trainingData) # train 4 models in parallel\n",
    "print(\"train time:\", time.time() - t0)\n",
    "\n"
   ]
  },
  {
   "cell_type": "code",
   "execution_count": 33,
   "metadata": {},
   "outputs": [
    {
     "data": {
      "text/html": [
       "<div>\n",
       "<style scoped>\n",
       "    .dataframe tbody tr th:only-of-type {\n",
       "        vertical-align: middle;\n",
       "    }\n",
       "\n",
       "    .dataframe tbody tr th {\n",
       "        vertical-align: top;\n",
       "    }\n",
       "\n",
       "    .dataframe thead th {\n",
       "        text-align: right;\n",
       "    }\n",
       "</style>\n",
       "<table border=\"1\" class=\"dataframe\">\n",
       "  <thead>\n",
       "    <tr style=\"text-align: right;\">\n",
       "      <th></th>\n",
       "      <th>areaUnderROC</th>\n",
       "      <th>maxIter</th>\n",
       "      <th>elasticNetParam</th>\n",
       "    </tr>\n",
       "  </thead>\n",
       "  <tbody>\n",
       "    <tr>\n",
       "      <th>0</th>\n",
       "      <td>0.517932</td>\n",
       "      <td>10</td>\n",
       "      <td>0.1</td>\n",
       "    </tr>\n",
       "    <tr>\n",
       "      <th>1</th>\n",
       "      <td>0.517932</td>\n",
       "      <td>10</td>\n",
       "      <td>0.5</td>\n",
       "    </tr>\n",
       "    <tr>\n",
       "      <th>2</th>\n",
       "      <td>0.517932</td>\n",
       "      <td>10</td>\n",
       "      <td>0.9</td>\n",
       "    </tr>\n",
       "    <tr>\n",
       "      <th>3</th>\n",
       "      <td>0.517905</td>\n",
       "      <td>20</td>\n",
       "      <td>0.1</td>\n",
       "    </tr>\n",
       "    <tr>\n",
       "      <th>4</th>\n",
       "      <td>0.517905</td>\n",
       "      <td>20</td>\n",
       "      <td>0.5</td>\n",
       "    </tr>\n",
       "    <tr>\n",
       "      <th>5</th>\n",
       "      <td>0.517905</td>\n",
       "      <td>20</td>\n",
       "      <td>0.9</td>\n",
       "    </tr>\n",
       "    <tr>\n",
       "      <th>6</th>\n",
       "      <td>0.518338</td>\n",
       "      <td>30</td>\n",
       "      <td>0.1</td>\n",
       "    </tr>\n",
       "    <tr>\n",
       "      <th>7</th>\n",
       "      <td>0.518338</td>\n",
       "      <td>30</td>\n",
       "      <td>0.5</td>\n",
       "    </tr>\n",
       "    <tr>\n",
       "      <th>8</th>\n",
       "      <td>0.518338</td>\n",
       "      <td>30</td>\n",
       "      <td>0.9</td>\n",
       "    </tr>\n",
       "  </tbody>\n",
       "</table>\n",
       "</div>"
      ],
      "text/plain": [
       "   areaUnderROC  maxIter  elasticNetParam\n",
       "0      0.517932       10              0.1\n",
       "1      0.517932       10              0.5\n",
       "2      0.517932       10              0.9\n",
       "3      0.517905       20              0.1\n",
       "4      0.517905       20              0.5\n",
       "5      0.517905       20              0.9\n",
       "6      0.518338       30              0.1\n",
       "7      0.518338       30              0.5\n",
       "8      0.518338       30              0.9"
      ]
     },
     "execution_count": 33,
     "metadata": {},
     "output_type": "execute_result"
    }
   ],
   "source": [
    "import pandas as pd\n",
    "#https://stackoverflow.com/questions/51230726/extract-results-from-crossvalidator-with-paramgrid-in-pyspark\n",
    "params = [{p.name: v for p, v in m.items()} for m in bestLrModel.getEstimatorParamMaps()]\n",
    "pd.DataFrame.from_dict([\n",
    "    {bestLrModel.getEvaluator().getMetricName(): metric, **ps} \n",
    "    for ps, metric in zip(params, bestLrModel.validationMetrics)\n",
    "])"
   ]
  },
  {
   "cell_type": "code",
   "execution_count": 34,
   "metadata": {},
   "outputs": [
    {
     "data": {
      "text/plain": [
       "0.5764120212370283"
      ]
     },
     "execution_count": 34,
     "metadata": {},
     "output_type": "execute_result"
    }
   ],
   "source": [
    "# Make predictions on test documents. cvModel uses the best model found (lrModel).\n",
    "prediction = bestLrModel.transform(testData)\n",
    "getAccuracy(prediction)"
   ]
  },
  {
   "cell_type": "markdown",
   "metadata": {},
   "source": [
    "### Model 3: Chirag"
   ]
  },
  {
   "cell_type": "markdown",
   "metadata": {},
   "source": [
    "## Sensitivity Analysis"
   ]
  },
  {
   "cell_type": "code",
   "execution_count": 44,
   "metadata": {},
   "outputs": [],
   "source": [
    "from pyspark.ml import Pipeline, Transformer\n",
    "from pyspark.sql.functions import udf\n",
    "def stockImproved(s):\n",
    "    return 1 if s > 0 else 0\n",
    "# CUSTOM TRANSFORMER ----------------------------------------------------------------\n",
    "class SensitivityAnalysis(Transformer, DefaultParamsWritable, DefaultParamsReadable):\n",
    "    \"\"\"\n",
    "    A custom Transformer which drops all columns that have at least one of the\n",
    "    words from the banned_list in the name.\n",
    "    \"\"\"\n",
    "    def __init__(self,inputCol=None, outputCol=None):\n",
    "        super(SensitivityAnalysis, self).__init__()\n",
    "        self.inputCol = inputCol\n",
    "\n",
    "    def _transform(self, df):\n",
    "        df_stats = df.select(\n",
    "        _mean(col(self.inputCol)).alias('mean'),\n",
    "        _stddev(col(self.inputCol)).alias('std')\n",
    "            ).collect()\n",
    "        std = df_stats[0]['std']\n",
    "        df = df.withColumn(self.inputCol,col(self.inputCol)+ std)\n",
    "        return df"
   ]
  },
  {
   "cell_type": "code",
   "execution_count": 48,
   "metadata": {},
   "outputs": [],
   "source": [
    "sensitivity = SensitivityAnalysis('gross_profit')"
   ]
  },
  {
   "cell_type": "code",
   "execution_count": 55,
   "metadata": {},
   "outputs": [],
   "source": [
    "# Recreate Best Pipelines but with Sensitivity Analysis\n",
    "bestBt = GBTClassifier(featuresCol=\"features\",labelCol = 'label', maxIter=10,maxBins=550,maxDepth=10)\n",
    "pipelineBt = Pipeline(stages=[changeColumnType,imputer,indexer,sensitivity,responseVariable,encoder,getFeatures,bestBt])\n",
    "bestLr = LogisticRegression(featuresCol=\"features\",labelCol = 'label',elasticNetParam = 0.5, maxIter=30)\n",
    "pipelineLr = Pipeline(stages=[changeColumnType,imputer,indexer,sensitivity,responseVariable,encoder,getFeatures,bestLr])\n"
   ]
  },
  {
   "cell_type": "code",
   "execution_count": 58,
   "metadata": {},
   "outputs": [],
   "source": [
    "bestBtModel = pipelineBt.fit(trainingData)"
   ]
  },
  {
   "cell_type": "code",
   "execution_count": 59,
   "metadata": {},
   "outputs": [
    {
     "data": {
      "text/plain": [
       "0.7596978750710149"
      ]
     },
     "execution_count": 59,
     "metadata": {},
     "output_type": "execute_result"
    }
   ],
   "source": [
    "# Make predictions on test documents. cvModel uses the best model found (lrModel).\n",
    "prediction = bestBtModel.transform(testData)\n",
    "getAccuracy(prediction)"
   ]
  },
  {
   "cell_type": "code",
   "execution_count": null,
   "metadata": {},
   "outputs": [],
   "source": [
    "bestLrModel = pipelineLr.fit(trainingData)"
   ]
  },
  {
   "cell_type": "code",
   "execution_count": null,
   "metadata": {},
   "outputs": [],
   "source": [
    "# Make predictions on test documents. cvModel uses the best model found (lrModel).\n",
    "prediction = bestLrModel.transform(testData)\n",
    "getAccuracy(prediction)"
   ]
  },
  {
   "cell_type": "code",
   "execution_count": 98,
   "metadata": {},
   "outputs": [
    {
     "name": "stdout",
     "output_type": "stream",
     "text": [
      "[NbConvertApp] Converting notebook /sfs/qumulo/qhome/trr2as/ds5559/project/big_data_cleaning.ipynb to pdf\n",
      "[NbConvertApp] Support files will be in big_data_cleaning_files/\n",
      "[NbConvertApp] Making directory ./big_data_cleaning_files\n",
      "[NbConvertApp] Making directory ./big_data_cleaning_files\n",
      "[NbConvertApp] Making directory ./big_data_cleaning_files\n",
      "[NbConvertApp] Making directory ./big_data_cleaning_files\n",
      "[NbConvertApp] Making directory ./big_data_cleaning_files\n",
      "[NbConvertApp] Writing 67678 bytes to ./notebook.tex\n",
      "[NbConvertApp] Building PDF\n",
      "[NbConvertApp] Running xelatex 3 times: ['xelatex', './notebook.tex', '-quiet']\n",
      "[NbConvertApp] Running bibtex 1 time: ['bibtex', './notebook']\n",
      "[NbConvertApp] WARNING | bibtex had problems, most likely because there were no citations\n",
      "[NbConvertApp] PDF successfully created\n",
      "[NbConvertApp] Writing 144370 bytes to /sfs/qumulo/qhome/trr2as/ds5559/project/big_data_cleaning.pdf\n",
      "[NbConvertApp] Converting notebook /sfs/qumulo/qhome/trr2as/ds5559/project/lag_model_building_assignment1.ipynb to pdf\n",
      "[NbConvertApp] Support files will be in lag_model_building_assignment1_files/\n",
      "[NbConvertApp] Making directory ./lag_model_building_assignment1_files\n",
      "[NbConvertApp] Making directory ./lag_model_building_assignment1_files\n",
      "[NbConvertApp] Making directory ./lag_model_building_assignment1_files\n",
      "[NbConvertApp] Making directory ./lag_model_building_assignment1_files\n",
      "[NbConvertApp] Making directory ./lag_model_building_assignment1_files\n",
      "[NbConvertApp] Writing 120800 bytes to ./notebook.tex\n",
      "[NbConvertApp] Building PDF\n",
      "[NbConvertApp] Running xelatex 3 times: ['xelatex', './notebook.tex', '-quiet']\n",
      "[NbConvertApp] Running bibtex 1 time: ['bibtex', './notebook']\n",
      "[NbConvertApp] WARNING | bibtex had problems, most likely because there were no citations\n",
      "[NbConvertApp] PDF successfully created\n",
      "[NbConvertApp] Writing 191549 bytes to /sfs/qumulo/qhome/trr2as/ds5559/project/lag_model_building_assignment1.pdf\n",
      "[NbConvertApp] Converting notebook /sfs/qumulo/qhome/trr2as/ds5559/project/model_building.ipynb to pdf\n",
      "[NbConvertApp] Support files will be in model_building_files/\n",
      "[NbConvertApp] Making directory ./model_building_files\n",
      "[NbConvertApp] Making directory ./model_building_files\n",
      "[NbConvertApp] Making directory ./model_building_files\n",
      "[NbConvertApp] Making directory ./model_building_files\n",
      "[NbConvertApp] Making directory ./model_building_files\n",
      "[NbConvertApp] Writing 88471 bytes to ./notebook.tex\n",
      "[NbConvertApp] Building PDF\n",
      "[NbConvertApp] Running xelatex 3 times: ['xelatex', './notebook.tex', '-quiet']\n",
      "[NbConvertApp] Running bibtex 1 time: ['bibtex', './notebook']\n",
      "[NbConvertApp] WARNING | bibtex had problems, most likely because there were no citations\n",
      "[NbConvertApp] PDF successfully created\n",
      "[NbConvertApp] Writing 161271 bytes to /sfs/qumulo/qhome/trr2as/ds5559/project/model_building.pdf\n",
      "[NbConvertApp] Converting notebook /sfs/qumulo/qhome/trr2as/ds5559/project/model_building_assignment.ipynb to pdf\n",
      "[NbConvertApp] Support files will be in model_building_assignment_files/\n",
      "[NbConvertApp] Making directory ./model_building_assignment_files\n",
      "[NbConvertApp] Making directory ./model_building_assignment_files\n",
      "[NbConvertApp] Making directory ./model_building_assignment_files\n",
      "[NbConvertApp] Making directory ./model_building_assignment_files\n",
      "[NbConvertApp] Making directory ./model_building_assignment_files\n",
      "[NbConvertApp] Writing 151483 bytes to ./notebook.tex\n",
      "[NbConvertApp] Building PDF\n",
      "[NbConvertApp] Running xelatex 3 times: ['xelatex', './notebook.tex', '-quiet']\n",
      "[NbConvertApp] Running bibtex 1 time: ['bibtex', './notebook']\n",
      "[NbConvertApp] WARNING | bibtex had problems, most likely because there were no citations\n",
      "[NbConvertApp] PDF successfully created\n",
      "[NbConvertApp] Writing 217613 bytes to /sfs/qumulo/qhome/trr2as/ds5559/project/model_building_assignment.pdf\n",
      "[NbConvertApp] Converting notebook /sfs/qumulo/qhome/trr2as/ds5559/project/model_building_assignment2.ipynb to pdf\n",
      "[NbConvertApp] Support files will be in model_building_assignment2_files/\n",
      "[NbConvertApp] Making directory ./model_building_assignment2_files\n",
      "[NbConvertApp] Making directory ./model_building_assignment2_files\n",
      "[NbConvertApp] Making directory ./model_building_assignment2_files\n",
      "[NbConvertApp] Making directory ./model_building_assignment2_files\n",
      "[NbConvertApp] Making directory ./model_building_assignment2_files\n",
      "[NbConvertApp] Writing 102885 bytes to ./notebook.tex\n",
      "[NbConvertApp] Building PDF\n",
      "[NbConvertApp] Running xelatex 3 times: ['xelatex', './notebook.tex', '-quiet']\n",
      "[NbConvertApp] Running bibtex 1 time: ['bibtex', './notebook']\n",
      "[NbConvertApp] WARNING | bibtex had problems, most likely because there were no citations\n",
      "[NbConvertApp] PDF successfully created\n",
      "[NbConvertApp] Writing 174068 bytes to /sfs/qumulo/qhome/trr2as/ds5559/project/model_building_assignment2.pdf\n",
      "[NbConvertApp] Converting notebook /sfs/qumulo/qhome/trr2as/ds5559/project/model_tuning.ipynb to pdf\n",
      "[NbConvertApp] Support files will be in model_tuning_files/\n",
      "[NbConvertApp] Making directory ./model_tuning_files\n",
      "[NbConvertApp] Making directory ./model_tuning_files\n",
      "[NbConvertApp] Making directory ./model_tuning_files\n",
      "[NbConvertApp] Making directory ./model_tuning_files\n",
      "[NbConvertApp] Making directory ./model_tuning_files\n",
      "[NbConvertApp] Writing 83479 bytes to ./notebook.tex\n",
      "[NbConvertApp] Building PDF\n",
      "[NbConvertApp] Running xelatex 3 times: ['xelatex', './notebook.tex', '-quiet']\n",
      "[NbConvertApp] Running bibtex 1 time: ['bibtex', './notebook']\n",
      "[NbConvertApp] WARNING | bibtex had problems, most likely because there were no citations\n",
      "[NbConvertApp] PDF successfully created\n",
      "[NbConvertApp] Writing 160712 bytes to /sfs/qumulo/qhome/trr2as/ds5559/project/model_tuning.pdf\n"
     ]
    }
   ],
   "source": [
    "# Save notebook as PDF document\n",
    "!jupyter nbconvert --to pdf `pwd`/*.ipynb"
   ]
  },
  {
   "cell_type": "code",
   "execution_count": null,
   "metadata": {},
   "outputs": [],
   "source": []
  }
 ],
 "metadata": {
  "kernelspec": {
   "display_name": "DS 5559",
   "language": "python",
   "name": "ds5559"
  },
  "language_info": {
   "codemirror_mode": {
    "name": "ipython",
    "version": 3
   },
   "file_extension": ".py",
   "mimetype": "text/x-python",
   "name": "python",
   "nbconvert_exporter": "python",
   "pygments_lexer": "ipython3",
   "version": "3.7.6"
  }
 },
 "nbformat": 4,
 "nbformat_minor": 4
}
