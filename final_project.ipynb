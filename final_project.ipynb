{
 "cells": [
  {
   "cell_type": "markdown",
   "metadata": {},
   "source": [
    "# Big Data Project\n",
    "### Taylor Rohrich (trr2as) Alex Stern (acs4wq) Chirag Kulkarni (ck3fz)\n",
    "\n",
    "This is the collection of all of our code for our Big Data Project. It is broken down into the following sections:\n",
    "1. data import and preprocessing (2 PTS)\n",
    "2. data splitting / sampling (1 PT)\n",
    "3. exploratory data analysis, with at least 2 graphs (2 PTS)\n",
    "4. model construction, with at least 3 models (3 PTS)\n",
    "5. model evaluation (2 PTS)"
   ]
  },
  {
   "cell_type": "markdown",
   "metadata": {},
   "source": [
    "## 1. data import and preprocessing (2 PTS)"
   ]
  },
  {
   "cell_type": "markdown",
   "metadata": {},
   "source": [
    "### Combining these two CSV's is the only part done in pandas -- the rest is completely in pyspark"
   ]
  },
  {
   "cell_type": "code",
   "execution_count": 1,
   "metadata": {},
   "outputs": [],
   "source": [
    "# initial imports\n",
    "import pandas as pd\n",
    "import numpy as np\n",
    "import matplotlib.pyplot as plt\n",
    "from pandas.tseries.holiday import USFederalHolidayCalendar as calendar"
   ]
  },
  {
   "cell_type": "code",
   "execution_count": 40,
   "metadata": {},
   "outputs": [],
   "source": [
    "# Read base csv's\n",
    "prices = pd.read_csv('prices_response.csv')\n",
    "fundamentals = pd.read_csv('fundamentals.csv')"
   ]
  },
  {
   "cell_type": "code",
   "execution_count": 41,
   "metadata": {},
   "outputs": [],
   "source": [
    "# Convert to datetime\n",
    "prices['date']= pd.to_datetime(prices[\"date\"])"
   ]
  },
  {
   "cell_type": "code",
   "execution_count": 42,
   "metadata": {},
   "outputs": [],
   "source": [
    "# Get out specific statistics about the date\n",
    "prices['quarter'] = prices['date'].dt.quarter\n",
    "prices['year']=prices['date'].dt.year\n",
    "prices['dayofweek']= prices['date'].dt.weekday\n",
    "prices['month']= prices['date'].dt.month\n",
    "prices['dayofmonth']= prices['date'].dt.day"
   ]
  },
  {
   "cell_type": "code",
   "execution_count": 43,
   "metadata": {},
   "outputs": [],
   "source": [
    "# Check if a date is a holiday\n",
    "cal = calendar()\n",
    "holidays = cal.holidays()\n",
    "prices['isholiday'] = prices['date'].isin(holidays).replace({True:1,False:0})\n",
    "prices = prices.loc[~prices['futurePrice'].isna()]"
   ]
  },
  {
   "cell_type": "code",
   "execution_count": 44,
   "metadata": {},
   "outputs": [],
   "source": [
    "# Drop index column\n",
    "fundamentals.drop(columns=[fundamentals.columns[0]],inplace=True)\n",
    "# Map and remove invalid column names\n",
    "fundamentals.columns=fundamentals.columns.map(lambda x: \"_\".join(x.lower().replace(\".\",\"_\").split(\" \")))\n",
    "# Rename invalid column names\n",
    "fundamentals = fundamentals.rename(columns={'ticker_symbol':'symbol','sales,_general_and_admin_':'sales_general_and_admin_'})\n",
    "# Convert to datetime, get out relevant summary statistics\n",
    "fundamentals['date']= pd.to_datetime(fundamentals[\"period_ending\"])\n",
    "fundamentals['quarter'] = fundamentals['date'].dt.quarter\n",
    "fundamentals['year']=fundamentals['date'].dt.year\n",
    "# drop date column\n",
    "fundamentals.drop(columns=['date'],inplace=True)"
   ]
  },
  {
   "cell_type": "code",
   "execution_count": 45,
   "metadata": {},
   "outputs": [],
   "source": [
    "# Combine to dataframes\n",
    "combined = prices.merge(fundamentals,on=['symbol','year','quarter'],how='left')"
   ]
  },
  {
   "cell_type": "code",
   "execution_count": 8,
   "metadata": {},
   "outputs": [],
   "source": [
    "# Write out joined dataset to csv\n",
    "combined.to_csv('stocks.csv',index=False)"
   ]
  },
  {
   "cell_type": "code",
   "execution_count": 2,
   "metadata": {},
   "outputs": [],
   "source": [
    "# import psypark libraries\n",
    "from pyspark.mllib.stat import Statistics\n",
    "from pyspark.sql import SparkSession\n",
    "from pyspark.sql.functions import col \n",
    "from pyspark.ml.feature import StandardScaler,Bucketizer\n",
    "from pyspark.sql.types import FloatType\n",
    "from pyspark.sql.functions import isnan, when, count, col\n",
    "from pyspark.ml import Pipeline,PipelineModel\n",
    "from pyspark.ml.regression import GBTRegressor\n",
    "from pyspark.ml.feature import VectorIndexer\n",
    "from pyspark.ml.evaluation import RegressionEvaluator\n",
    "# import data types\n",
    "from pyspark.sql.types import StructType, StructField, StringType, IntegerType\n",
    "from pyspark.ml import Pipeline, Transformer\n",
    "from pyspark.ml.util import DefaultParamsWritable,DefaultParamsReadable\n",
    "from pyspark.ml.feature import Imputer\n",
    "from pyspark.ml.feature import StringIndexer\n",
    "from pyspark.ml import Pipeline, Transformer\n",
    "from pyspark.sql.functions import udf\n",
    "from pyspark.ml.feature import OneHotEncoder, StringIndexer\n",
    "from pyspark.ml.feature import VectorAssembler\n",
    "from pyspark.ml.classification import GBTClassifier\n",
    "from pyspark.ml.tuning import CrossValidator, ParamGridBuilder, TrainValidationSplit\n",
    "from pyspark.ml.evaluation import BinaryClassificationEvaluator\n",
    "import time\n",
    "import pandas as pd\n",
    "from pyspark.ml.classification import LogisticRegression\n",
    "from pyspark.ml.tuning import CrossValidator, ParamGridBuilder\n",
    "from pyspark.ml.evaluation import BinaryClassificationEvaluator\n",
    "from pyspark.ml.tuning import ParamGridBuilder, TrainValidationSplit\n",
    "from pyspark.ml.classification import MultilayerPerceptronClassifier\n",
    "from pyspark.ml.evaluation import MulticlassClassificationEvaluator\n",
    "from pyspark.ml.tuning import CrossValidator, ParamGridBuilder\n",
    "from pyspark.ml.evaluation import BinaryClassificationEvaluator\n",
    "from pyspark.ml.tuning import ParamGridBuilder, TrainValidationSplit\n",
    "from pyspark.sql.functions import mean as _mean, stddev as _stddev, col\n",
    "from pyspark.mllib.evaluation import BinaryClassificationMetrics\n",
    "from pyspark.mllib.evaluation import MulticlassMetrics\n",
    "spark = SparkSession.builder.getOrCreate()"
   ]
  },
  {
   "cell_type": "code",
   "execution_count": 3,
   "metadata": {},
   "outputs": [
    {
     "data": {
      "text/plain": [
       "DataFrame[date: timestamp, symbol: string, open: double, close: double, low: double, high: double, volume: double, dateLagged: timestamp, futurePrice: double, quarter: int, year: int, dayofweek: int, month: int, dayofmonth: int, isholiday: int, period_ending: timestamp, accounts_payable: double, accounts_receivable: double, add'l_income/expense_items: double, after_tax_roe: double, capital_expenditures: double, capital_surplus: double, cash_ratio: double, cash_and_cash_equivalents: double, changes_in_inventories: double, common_stocks: double, cost_of_revenue: double, current_ratio: double, deferred_asset_charges: double, deferred_liability_charges: double, depreciation: double, earnings_before_interest_and_tax: double, earnings_before_tax: double, effect_of_exchange_rate: double, equity_earnings/loss_unconsolidated_subsidiary: double, fixed_assets: double, goodwill: double, gross_margin: double, gross_profit: double, income_tax: double, intangible_assets: double, interest_expense: double, inventory: double, investments: double, liabilities: double, long-term_debt: double, long-term_investments: double, minority_interest: double, misc__stocks: double, net_borrowings: double, net_cash_flow: double, net_cash_flow-operating: double, net_cash_flows-financing: double, net_cash_flows-investing: double, net_income: double, net_income_adjustments: double, net_income_applicable_to_common_shareholders: double, net_income-cont__operations: double, net_receivables: double, non-recurring_items: double, operating_income: double, operating_margin: double, other_assets: double, other_current_assets: double, other_current_liabilities: double, other_equity: double, other_financing_activities: double, other_investing_activities: double, other_liabilities: double, other_operating_activities: double, other_operating_items: double, pre-tax_margin: double, pre-tax_roe: double, profit_margin: double, quick_ratio: double, research_and_development: double, retained_earnings: double, sale_and_purchase_of_stock: double, sales_general_and_admin_: double, short-term_debt_/_current_portion_of_long-term_debt: double, short-term_investments: double, total_assets: double, total_current_assets: double, total_current_liabilities: double, total_equity: double, total_liabilities: double, total_liabilities_&_equity: double, total_revenue: double, treasury_stock: double, for_year: double, earnings_per_share: double, estimated_shares_outstanding: double]"
      ]
     },
     "execution_count": 3,
     "metadata": {},
     "output_type": "execute_result"
    }
   ],
   "source": [
    "# Read filename,cache\n",
    "filename = 'stocks.csv'\n",
    "df = spark.read.csv(filename, inferSchema=True, header = True)\n",
    "df.cache()"
   ]
  },
  {
   "cell_type": "markdown",
   "metadata": {},
   "source": [
    "#### Cast Columns to Different types"
   ]
  },
  {
   "cell_type": "code",
   "execution_count": 4,
   "metadata": {},
   "outputs": [],
   "source": [
    "# Transformer will change datatype of column\n",
    "class ChangeColumnType(Transformer, DefaultParamsWritable, DefaultParamsReadable):\n",
    "\n",
    "    def __init__(self,inputCols=None, outputCol=None):\n",
    "        super(ChangeColumnType, self).__init__()\n",
    "        self.inputCols = inputCols\n",
    "\n",
    "    def _transform(self, df):\n",
    "        # for each input column, cast to a datatype\n",
    "        for column, dataType in self.inputCols:\n",
    "            df = df.withColumn(column, df[column].cast(dataType))\n",
    "        return df"
   ]
  },
  {
   "cell_type": "code",
   "execution_count": 5,
   "metadata": {},
   "outputs": [],
   "source": [
    "# Change date to an integer\n",
    "changeColumnType = ChangeColumnType(inputCols = [('date','int')])"
   ]
  },
  {
   "cell_type": "markdown",
   "metadata": {},
   "source": [
    "#### Filling NA's"
   ]
  },
  {
   "cell_type": "code",
   "execution_count": 6,
   "metadata": {},
   "outputs": [],
   "source": [
    "# Columns with missing values\n",
    "missingCols = ['accounts_payable', 'accounts_receivable',\n",
    "       \"add'l_income/expense_items\", 'after_tax_roe', 'capital_expenditures',\n",
    "       'capital_surplus', 'cash_ratio', 'cash_and_cash_equivalents',\n",
    "       'changes_in_inventories', 'common_stocks', 'cost_of_revenue',\n",
    "       'current_ratio', 'deferred_asset_charges', 'deferred_liability_charges',\n",
    "       'depreciation', 'earnings_before_interest_and_tax',\n",
    "       'earnings_before_tax', 'effect_of_exchange_rate',\n",
    "       'equity_earnings/loss_unconsolidated_subsidiary', 'fixed_assets',\n",
    "       'goodwill', 'gross_margin', 'gross_profit', 'income_tax',\n",
    "       'intangible_assets', 'interest_expense', 'inventory', 'investments',\n",
    "       'liabilities', 'long-term_debt', 'long-term_investments',\n",
    "       'minority_interest', 'misc__stocks', 'net_borrowings', 'net_cash_flow',\n",
    "       'net_cash_flow-operating', 'net_cash_flows-financing',\n",
    "       'net_cash_flows-investing', 'net_income', 'net_income_adjustments',\n",
    "       'net_income_applicable_to_common_shareholders',\n",
    "       'net_income-cont__operations', 'net_receivables', 'non-recurring_items',\n",
    "       'operating_income', 'operating_margin', 'other_assets',\n",
    "       'other_current_assets', 'other_current_liabilities', 'other_equity',\n",
    "       'other_financing_activities', 'other_investing_activities',\n",
    "       'other_liabilities', 'other_operating_activities',\n",
    "       'other_operating_items', 'pre-tax_margin', 'pre-tax_roe',\n",
    "       'profit_margin', 'quick_ratio', 'research_and_development',\n",
    "       'retained_earnings', 'sale_and_purchase_of_stock',\n",
    "       'sales_general_and_admin_',\n",
    "       'short-term_debt_/_current_portion_of_long-term_debt',\n",
    "       'short-term_investments', 'total_assets', 'total_current_assets',\n",
    "       'total_current_liabilities', 'total_equity', 'total_liabilities',\n",
    "       'total_liabilities_&_equity', 'total_revenue', 'treasury_stock',\n",
    "       'for_year', 'earnings_per_share', 'estimated_shares_outstanding']\n",
    "#get output names\n",
    "output = [f'{column}_out' for column in missingCols]\n",
    "# Create imputer to fill na's\n",
    "imputer = Imputer(inputCols=missingCols, outputCols=missingCols)\n",
    "# Fit on data\n",
    "model = imputer.fit(df)"
   ]
  },
  {
   "cell_type": "markdown",
   "metadata": {},
   "source": [
    "#### Convert String Ticker to Index"
   ]
  },
  {
   "cell_type": "code",
   "execution_count": 7,
   "metadata": {},
   "outputs": [
    {
     "data": {
      "text/plain": [
       "StringIndexer_6fa7062d8332"
      ]
     },
     "execution_count": 7,
     "metadata": {},
     "output_type": "execute_result"
    }
   ],
   "source": [
    "# Create stringindexer to convert symbol to index\n",
    "indexer = StringIndexer(inputCol=\"symbol\", outputCol=\"symbolIndex\")\n",
    "# Fit on df\n",
    "indexer.fit(df)"
   ]
  },
  {
   "cell_type": "markdown",
   "metadata": {},
   "source": [
    "#### Create Response"
   ]
  },
  {
   "cell_type": "code",
   "execution_count": 8,
   "metadata": {},
   "outputs": [],
   "source": [
    "# Helper function for response: 1 if stock improved otherwise 0\n",
    "def stockImproved(s):\n",
    "    return 1 if s > 0 else 0\n",
    "# Transformer to create response variable\n",
    "class CreateResponseVariable(Transformer, DefaultParamsWritable, DefaultParamsReadable):\n",
    "    def __init__(self,inputCol=None, outputCol=None):\n",
    "        super(CreateResponseVariable, self).__init__()\n",
    "\n",
    "    def _transform(self, df):\n",
    "        # Create difference column\n",
    "        df= df.withColumn('difference',col('futurePrice')-col('close'))\n",
    "        # Calculate if stock improved\n",
    "        stockImproved_udf = udf(stockImproved)\n",
    "        # Create label column with if stock improved\n",
    "        df = df.withColumn(\"label\", stockImproved_udf('difference').cast('integer'))\n",
    "        return df"
   ]
  },
  {
   "cell_type": "code",
   "execution_count": 9,
   "metadata": {},
   "outputs": [],
   "source": [
    "# Transformer\n",
    "responseVariable = CreateResponseVariable()"
   ]
  },
  {
   "cell_type": "markdown",
   "metadata": {},
   "source": [
    "#### One Hot Encode"
   ]
  },
  {
   "cell_type": "code",
   "execution_count": 10,
   "metadata": {},
   "outputs": [],
   "source": [
    "# One Hot encode Transformer for symbolIndex\n",
    "encoder = OneHotEncoder(inputCol=\"symbolIndex\", outputCol=\"symbolVec\")"
   ]
  },
  {
   "cell_type": "markdown",
   "metadata": {},
   "source": [
    "#### Get Features"
   ]
  },
  {
   "cell_type": "code",
   "execution_count": 11,
   "metadata": {},
   "outputs": [],
   "source": [
    "# Variables to keep\n",
    "vars_to_keep = [\"label\",'open','close',\n",
    "               'year','dayofweek','dayofmonth','month','date','symbolIndex','gross_profit','long-term_debt','close']\n",
    "# Extract features\n",
    "features = [column for column in vars_to_keep if column !='label']\n",
    "\n",
    "# Features transformer\n",
    "getFeatures = VectorAssembler(inputCols=features, outputCol=\"features\")"
   ]
  },
  {
   "cell_type": "markdown",
   "metadata": {},
   "source": [
    "## 2. data splitting / sampling (1 PT)"
   ]
  },
  {
   "cell_type": "markdown",
   "metadata": {},
   "source": [
    "#### Train Test Split"
   ]
  },
  {
   "cell_type": "code",
   "execution_count": 12,
   "metadata": {},
   "outputs": [],
   "source": [
    "# Split the data into training and test sets (30% held out for testing)\n",
    "(trainingData, testData) = df.randomSplit([0.7, 0.3])\n"
   ]
  },
  {
   "cell_type": "markdown",
   "metadata": {},
   "source": [
    "## 3. exploratory data analysis, with at least 2 graphs (2 PTS)"
   ]
  },
  {
   "cell_type": "markdown",
   "metadata": {},
   "source": [
    "### Number of Records"
   ]
  },
  {
   "cell_type": "code",
   "execution_count": 66,
   "metadata": {},
   "outputs": [
    {
     "data": {
      "text/plain": [
       "814755"
      ]
     },
     "execution_count": 66,
     "metadata": {},
     "output_type": "execute_result"
    }
   ],
   "source": [
    "len(combined)"
   ]
  },
  {
   "cell_type": "markdown",
   "metadata": {},
   "source": [
    "### Number of Columns"
   ]
  },
  {
   "cell_type": "code",
   "execution_count": 67,
   "metadata": {},
   "outputs": [
    {
     "data": {
      "text/plain": [
       "93"
      ]
     },
     "execution_count": 67,
     "metadata": {},
     "output_type": "execute_result"
    }
   ],
   "source": [
    "len(combined.columns)"
   ]
  },
  {
   "cell_type": "markdown",
   "metadata": {},
   "source": [
    "### Statistical Summary of Response Variable"
   ]
  },
  {
   "cell_type": "code",
   "execution_count": 68,
   "metadata": {},
   "outputs": [
    {
     "data": {
      "text/plain": [
       "1    469512\n",
       "0    345243\n",
       "dtype: int64"
      ]
     },
     "execution_count": 68,
     "metadata": {},
     "output_type": "execute_result"
    }
   ],
   "source": [
    "# Our response is a binary of if a stock increases or not in 2 months time\n",
    "response = pd.Series(np.where(combined['futurePrice'] - combined['close'] > 0, 1,0))\n",
    "response.value_counts()"
   ]
  },
  {
   "cell_type": "code",
   "execution_count": 69,
   "metadata": {},
   "outputs": [],
   "source": [
    "combined['label'] = response"
   ]
  },
  {
   "cell_type": "markdown",
   "metadata": {},
   "source": [
    "### Statistical Summary of (Top 10) Predictor Variables"
   ]
  },
  {
   "cell_type": "code",
   "execution_count": 104,
   "metadata": {},
   "outputs": [],
   "source": [
    "# Selected Columns\n",
    "selectedCols = ['date', 'symbol', 'open', 'volume','close',\n",
    "       'year','cash_ratio','gross_profit','net_income','long-term_debt']"
   ]
  },
  {
   "cell_type": "code",
   "execution_count": 71,
   "metadata": {},
   "outputs": [],
   "source": [
    "parsed =combined[selectedCols]"
   ]
  },
  {
   "cell_type": "markdown",
   "metadata": {},
   "source": [
    "#### Numerical Columns"
   ]
  },
  {
   "cell_type": "code",
   "execution_count": 72,
   "metadata": {},
   "outputs": [
    {
     "data": {
      "text/html": [
       "<div>\n",
       "<style scoped>\n",
       "    .dataframe tbody tr th:only-of-type {\n",
       "        vertical-align: middle;\n",
       "    }\n",
       "\n",
       "    .dataframe tbody tr th {\n",
       "        vertical-align: top;\n",
       "    }\n",
       "\n",
       "    .dataframe thead th {\n",
       "        text-align: right;\n",
       "    }\n",
       "</style>\n",
       "<table border=\"1\" class=\"dataframe\">\n",
       "  <thead>\n",
       "    <tr style=\"text-align: right;\">\n",
       "      <th></th>\n",
       "      <th>open</th>\n",
       "      <th>volume</th>\n",
       "      <th>close</th>\n",
       "      <th>year</th>\n",
       "      <th>cash_ratio</th>\n",
       "      <th>gross_profit</th>\n",
       "      <th>net_income</th>\n",
       "      <th>long-term_debt</th>\n",
       "    </tr>\n",
       "  </thead>\n",
       "  <tbody>\n",
       "    <tr>\n",
       "      <th>count</th>\n",
       "      <td>814755.000000</td>\n",
       "      <td>8.147550e+05</td>\n",
       "      <td>814755.000000</td>\n",
       "      <td>814755.000000</td>\n",
       "      <td>85811.000000</td>\n",
       "      <td>1.026520e+05</td>\n",
       "      <td>1.026520e+05</td>\n",
       "      <td>1.026520e+05</td>\n",
       "    </tr>\n",
       "    <tr>\n",
       "      <th>mean</th>\n",
       "      <td>70.614875</td>\n",
       "      <td>5.435131e+06</td>\n",
       "      <td>70.636948</td>\n",
       "      <td>2013.021495</td>\n",
       "      <td>74.315740</td>\n",
       "      <td>7.243997e+09</td>\n",
       "      <td>1.727893e+09</td>\n",
       "      <td>8.567070e+09</td>\n",
       "    </tr>\n",
       "    <tr>\n",
       "      <th>std</th>\n",
       "      <td>83.306007</td>\n",
       "      <td>1.251702e+07</td>\n",
       "      <td>83.301740</td>\n",
       "      <td>1.990734</td>\n",
       "      <td>101.701142</td>\n",
       "      <td>1.374504e+10</td>\n",
       "      <td>4.064660e+09</td>\n",
       "      <td>2.784023e+10</td>\n",
       "    </tr>\n",
       "    <tr>\n",
       "      <th>min</th>\n",
       "      <td>0.850000</td>\n",
       "      <td>0.000000e+00</td>\n",
       "      <td>0.860000</td>\n",
       "      <td>2010.000000</td>\n",
       "      <td>0.000000</td>\n",
       "      <td>-1.264700e+10</td>\n",
       "      <td>-2.352800e+10</td>\n",
       "      <td>0.000000e+00</td>\n",
       "    </tr>\n",
       "    <tr>\n",
       "      <th>25%</th>\n",
       "      <td>33.775044</td>\n",
       "      <td>1.225500e+06</td>\n",
       "      <td>33.790001</td>\n",
       "      <td>2011.000000</td>\n",
       "      <td>17.000000</td>\n",
       "      <td>1.598600e+09</td>\n",
       "      <td>3.550000e+08</td>\n",
       "      <td>1.144100e+09</td>\n",
       "    </tr>\n",
       "    <tr>\n",
       "      <th>50%</th>\n",
       "      <td>52.619999</td>\n",
       "      <td>2.484900e+06</td>\n",
       "      <td>52.660000</td>\n",
       "      <td>2013.000000</td>\n",
       "      <td>41.000000</td>\n",
       "      <td>3.001000e+09</td>\n",
       "      <td>6.898000e+08</td>\n",
       "      <td>3.386000e+09</td>\n",
       "    </tr>\n",
       "    <tr>\n",
       "      <th>75%</th>\n",
       "      <td>79.699997</td>\n",
       "      <td>5.241550e+06</td>\n",
       "      <td>79.720001</td>\n",
       "      <td>2015.000000</td>\n",
       "      <td>90.000000</td>\n",
       "      <td>6.939000e+09</td>\n",
       "      <td>1.697000e+09</td>\n",
       "      <td>7.816000e+09</td>\n",
       "    </tr>\n",
       "    <tr>\n",
       "      <th>max</th>\n",
       "      <td>1584.439941</td>\n",
       "      <td>8.596434e+08</td>\n",
       "      <td>1578.130005</td>\n",
       "      <td>2016.000000</td>\n",
       "      <td>1041.000000</td>\n",
       "      <td>1.494530e+11</td>\n",
       "      <td>5.339400e+10</td>\n",
       "      <td>4.291940e+11</td>\n",
       "    </tr>\n",
       "  </tbody>\n",
       "</table>\n",
       "</div>"
      ],
      "text/plain": [
       "                open        volume          close           year  \\\n",
       "count  814755.000000  8.147550e+05  814755.000000  814755.000000   \n",
       "mean       70.614875  5.435131e+06      70.636948    2013.021495   \n",
       "std        83.306007  1.251702e+07      83.301740       1.990734   \n",
       "min         0.850000  0.000000e+00       0.860000    2010.000000   \n",
       "25%        33.775044  1.225500e+06      33.790001    2011.000000   \n",
       "50%        52.619999  2.484900e+06      52.660000    2013.000000   \n",
       "75%        79.699997  5.241550e+06      79.720001    2015.000000   \n",
       "max      1584.439941  8.596434e+08    1578.130005    2016.000000   \n",
       "\n",
       "         cash_ratio  gross_profit    net_income  long-term_debt  \n",
       "count  85811.000000  1.026520e+05  1.026520e+05    1.026520e+05  \n",
       "mean      74.315740  7.243997e+09  1.727893e+09    8.567070e+09  \n",
       "std      101.701142  1.374504e+10  4.064660e+09    2.784023e+10  \n",
       "min        0.000000 -1.264700e+10 -2.352800e+10    0.000000e+00  \n",
       "25%       17.000000  1.598600e+09  3.550000e+08    1.144100e+09  \n",
       "50%       41.000000  3.001000e+09  6.898000e+08    3.386000e+09  \n",
       "75%       90.000000  6.939000e+09  1.697000e+09    7.816000e+09  \n",
       "max     1041.000000  1.494530e+11  5.339400e+10    4.291940e+11  "
      ]
     },
     "execution_count": 72,
     "metadata": {},
     "output_type": "execute_result"
    }
   ],
   "source": [
    "parsed.describe()"
   ]
  },
  {
   "cell_type": "markdown",
   "metadata": {},
   "source": [
    "#### Categorical Column"
   ]
  },
  {
   "cell_type": "code",
   "execution_count": 73,
   "metadata": {},
   "outputs": [
    {
     "data": {
      "text/plain": [
       "PXD     1687\n",
       "BBT     1687\n",
       "PFG     1687\n",
       "APD     1687\n",
       "KLAC    1687\n",
       "        ... \n",
       "PYPL     348\n",
       "HPE      275\n",
       "CSRA     256\n",
       "WLTW     226\n",
       "FTV      104\n",
       "Name: symbol, Length: 501, dtype: int64"
      ]
     },
     "execution_count": 73,
     "metadata": {},
     "output_type": "execute_result"
    }
   ],
   "source": [
    "# See output of ticker values\n",
    "combined['symbol'].value_counts()"
   ]
  },
  {
   "cell_type": "markdown",
   "metadata": {},
   "source": [
    "### Helpful Graphs"
   ]
  },
  {
   "cell_type": "markdown",
   "metadata": {},
   "source": [
    "#### Correlation Matrix of the Top 10 Predictors"
   ]
  },
  {
   "cell_type": "code",
   "execution_count": 110,
   "metadata": {},
   "outputs": [
    {
     "data": {
      "text/plain": [
       "<matplotlib.axes._subplots.AxesSubplot at 0x7f046e5e5790>"
      ]
     },
     "execution_count": 110,
     "metadata": {},
     "output_type": "execute_result"
    },
    {
     "data": {
      "image/png": "[encoded data removed]",
      "text/plain": [
       "<Figure size 864x864 with 2 Axes>"
      ]
     },
     "metadata": {},
     "output_type": "display_data"
    }
   ],
   "source": [
    "import seaborn as sns\n",
    "sns.set(rc={'figure.figsize':(12,12)})\n",
    "# Correlation matrix\n",
    "matCols = ['label']+selectedCols + ['dayofweek', 'dayofmonth', 'month','date']\n",
    "corr = combined[matCols].corr()\n",
    "sns.heatmap(corr)"
   ]
  },
  {
   "cell_type": "markdown",
   "metadata": {},
   "source": [
    "#### Histogram of Gross Profit"
   ]
  },
  {
   "cell_type": "code",
   "execution_count": 83,
   "metadata": {},
   "outputs": [
    {
     "name": "stderr",
     "output_type": "stream",
     "text": [
      "/opt/conda/lib/python3.7/site-packages/numpy/lib/histograms.py:839: RuntimeWarning: invalid value encountered in greater_equal\n",
      "  keep = (tmp_a >= first_edge)\n",
      "/opt/conda/lib/python3.7/site-packages/numpy/lib/histograms.py:840: RuntimeWarning: invalid value encountered in less_equal\n",
      "  keep &= (tmp_a <= last_edge)\n"
     ]
    },
    {
     "data": {
      "text/plain": [
       "Text(0, 0.5, 'amount')"
      ]
     },
     "execution_count": 83,
     "metadata": {},
     "output_type": "execute_result"
    },
    {
     "data": {
      "image/png": "[encoded data removed]",
      "text/plain": [
       "<Figure size 432x288 with 1 Axes>"
      ]
     },
     "metadata": {
      "needs_background": "light"
     },
     "output_type": "display_data"
    }
   ],
   "source": [
    "plt.hist(parsed['gross_profit'],bins=20)\n",
    "plt.xlabel('gross profit')\n",
    "plt.ylabel('amount')"
   ]
  },
  {
   "cell_type": "markdown",
   "metadata": {},
   "source": [
    "From the output above, we see that the gross profit of companies of stocks has extreme right skew."
   ]
  },
  {
   "cell_type": "markdown",
   "metadata": {},
   "source": [
    "### Average Open By Day"
   ]
  },
  {
   "cell_type": "code",
   "execution_count": 84,
   "metadata": {},
   "outputs": [
    {
     "data": {
      "image/png": "[encoded data removed]",
      "text/plain": [
       "<Figure size 1440x720 with 1 Axes>"
      ]
     },
     "metadata": {
      "needs_background": "light"
     },
     "output_type": "display_data"
    }
   ],
   "source": [
    "# Group by day\n",
    "year_breakdown = combined.groupby(['date'])['open'].mean().reset_index()\n",
    "plt.figure(figsize=(20,10))\n",
    "plt.scatter(year_breakdown['date'],year_breakdown['open'])\n",
    "plt.xlabel('date')\n",
    "plt.ylabel('open price')\n",
    "plt.show()"
   ]
  },
  {
   "cell_type": "markdown",
   "metadata": {},
   "source": [
    "From the output above, we can see the general trend in the market over time."
   ]
  },
  {
   "cell_type": "markdown",
   "metadata": {},
   "source": [
    "### Specific Stocks"
   ]
  },
  {
   "cell_type": "code",
   "execution_count": 79,
   "metadata": {},
   "outputs": [
    {
     "data": {
      "image/png": "[encoded data removed]",
      "text/plain": [
       "<Figure size 431.875x360 with 1 Axes>"
      ]
     },
     "metadata": {
      "needs_background": "light"
     },
     "output_type": "display_data"
    }
   ],
   "source": [
    "import seaborn as sns\n",
    "# We see a split here\n",
    "sns.relplot(x='date', y='open', hue='symbol', kind='line', data=prices[prices['symbol'].isin(['AAPL', 'UAL', 'MSFT'])]);"
   ]
  },
  {
   "cell_type": "markdown",
   "metadata": {},
   "source": [
    "From the output above, we can see what data looks like for specific stocks over time. We can see a split in AAPL around 2014."
   ]
  },
  {
   "cell_type": "markdown",
   "metadata": {},
   "source": [
    "### Average Net Income By Year Quarter"
   ]
  },
  {
   "cell_type": "code",
   "execution_count": 86,
   "metadata": {},
   "outputs": [],
   "source": [
    "# Group by year, quarter for net income\n",
    "year_breakdown = combined.groupby(['year','quarter'])['net_income'].mean().reset_index()"
   ]
  },
  {
   "cell_type": "code",
   "execution_count": 87,
   "metadata": {},
   "outputs": [],
   "source": [
    "x = year_breakdown['year'].astype(str)+ \"Q\" + year_breakdown['quarter'].astype(str)"
   ]
  },
  {
   "cell_type": "code",
   "execution_count": 88,
   "metadata": {},
   "outputs": [
    {
     "data": {
      "image/png": "[encoded data removed]",
      "text/plain": [
       "<Figure size 1440x720 with 1 Axes>"
      ]
     },
     "metadata": {
      "needs_background": "light"
     },
     "output_type": "display_data"
    }
   ],
   "source": [
    "plt.figure(figsize=(20,10))\n",
    "plt.scatter(x,year_breakdown['net_income'])\n",
    "plt.xlabel('date')\n",
    "plt.ylabel('net income')\n",
    "plt.show()"
   ]
  },
  {
   "cell_type": "markdown",
   "metadata": {},
   "source": [
    "From the output above, we can see a general increase in the net income of the companies of stocks over time."
   ]
  },
  {
   "cell_type": "markdown",
   "metadata": {},
   "source": [
    "## 4. model construction, with at least 3 models (3 PTS)"
   ]
  },
  {
   "cell_type": "code",
   "execution_count": 18,
   "metadata": {},
   "outputs": [],
   "source": [
    "# Helper function to calculate accuracy\n",
    "def getAccuracy(predictions):\n",
    "    return predictions.rdd.map(lambda lp: (lp['label'] ==lp['prediction'])).sum() / predictions.count()"
   ]
  },
  {
   "cell_type": "markdown",
   "metadata": {},
   "source": [
    "### 1. Gradient Boosted Tree"
   ]
  },
  {
   "cell_type": "code",
   "execution_count": 16,
   "metadata": {},
   "outputs": [],
   "source": [
    "\n",
    "# Train a GBT model.\n",
    "gbt = GBTClassifier(featuresCol=\"features\",labelCol = 'label', maxIter=10)\n",
    "# Chain indexer and GBT in a Pipeline\n",
    "pipeline = Pipeline(stages=[changeColumnType,imputer,indexer,responseVariable,encoder,getFeatures,gbt])"
   ]
  },
  {
   "cell_type": "markdown",
   "metadata": {},
   "source": [
    "### Parameter Tuning"
   ]
  },
  {
   "cell_type": "code",
   "execution_count": 20,
   "metadata": {},
   "outputs": [
    {
     "name": "stdout",
     "output_type": "stream",
     "text": [
      "len(paramGrid): 4\n"
     ]
    }
   ],
   "source": [
    "\n",
    "# Set up the parameter grid\n",
    "paramGrid = ParamGridBuilder() \\\n",
    "    .addGrid(gbt.maxBins, [550, 700]) \\\n",
    "    .addGrid(gbt.maxDepth,[5,10]) \\\n",
    "    .build()\n",
    "\n",
    "print('len(paramGrid): {}'.format(len(paramGrid)))\n",
    "\n",
    "# Treat the Pipeline as an Estimator, wrapping it in a TrainValidation instance.\n",
    "trainval =  TrainValidationSplit(estimator=pipeline,\n",
    "                          estimatorParamMaps=paramGrid,\n",
    "                          evaluator=BinaryClassificationEvaluator()\n",
    "                         )\n"
   ]
  },
  {
   "cell_type": "code",
   "execution_count": 21,
   "metadata": {},
   "outputs": [
    {
     "name": "stdout",
     "output_type": "stream",
     "text": [
      "train time: 624.3759710788727\n"
     ]
    }
   ],
   "source": [
    "# Run cross-validation, and choose the best set of parameters. Print the training time.\n",
    "t0 = time.time()\n",
    "\n",
    "bestGBTModel = trainval.setParallelism(4).fit(trainingData) # train 4 models in parallel\n",
    "print(\"train time:\", time.time() - t0)\n",
    "\n",
    "# Make predictions on test documents\n",
    "prediction = bestRandomForestModel.transform(testData)"
   ]
  },
  {
   "cell_type": "code",
   "execution_count": 23,
   "metadata": {},
   "outputs": [],
   "source": [
    "#https://stackoverflow.com/questions/51230726/extract-results-from-crossvalidator-with-paramgrid-in-pyspark\n",
    "params = [{p.name: v for p, v in m.items()} for m in bestGBTModel.getEstimatorParamMaps()]"
   ]
  },
  {
   "cell_type": "code",
   "execution_count": 25,
   "metadata": {},
   "outputs": [
    {
     "data": {
      "text/html": [
       "<div>\n",
       "<style scoped>\n",
       "    .dataframe tbody tr th:only-of-type {\n",
       "        vertical-align: middle;\n",
       "    }\n",
       "\n",
       "    .dataframe tbody tr th {\n",
       "        vertical-align: top;\n",
       "    }\n",
       "\n",
       "    .dataframe thead th {\n",
       "        text-align: right;\n",
       "    }\n",
       "</style>\n",
       "<table border=\"1\" class=\"dataframe\">\n",
       "  <thead>\n",
       "    <tr style=\"text-align: right;\">\n",
       "      <th></th>\n",
       "      <th>areaUnderROC</th>\n",
       "      <th>maxBins</th>\n",
       "      <th>maxDepth</th>\n",
       "    </tr>\n",
       "  </thead>\n",
       "  <tbody>\n",
       "    <tr>\n",
       "      <th>0</th>\n",
       "      <td>0.731846</td>\n",
       "      <td>550</td>\n",
       "      <td>5</td>\n",
       "    </tr>\n",
       "    <tr>\n",
       "      <th>1</th>\n",
       "      <td>0.845648</td>\n",
       "      <td>550</td>\n",
       "      <td>10</td>\n",
       "    </tr>\n",
       "    <tr>\n",
       "      <th>2</th>\n",
       "      <td>0.738461</td>\n",
       "      <td>700</td>\n",
       "      <td>5</td>\n",
       "    </tr>\n",
       "    <tr>\n",
       "      <th>3</th>\n",
       "      <td>0.831500</td>\n",
       "      <td>700</td>\n",
       "      <td>10</td>\n",
       "    </tr>\n",
       "  </tbody>\n",
       "</table>\n",
       "</div>"
      ],
      "text/plain": [
       "   areaUnderROC  maxBins  maxDepth\n",
       "0      0.731846      550         5\n",
       "1      0.845648      550        10\n",
       "2      0.738461      700         5\n",
       "3      0.831500      700        10"
      ]
     },
     "execution_count": 25,
     "metadata": {},
     "output_type": "execute_result"
    }
   ],
   "source": [
    "# Print out the metrics and corresponding AUC\n",
    "pd.DataFrame.from_dict([\n",
    "    {bestGBTModel.getEvaluator().getMetricName(): metric, **ps} \n",
    "    for ps, metric in zip(params, bestGBTModel.validationMetrics)\n",
    "])"
   ]
  },
  {
   "cell_type": "code",
   "execution_count": 26,
   "metadata": {},
   "outputs": [
    {
     "data": {
      "text/plain": [
       "0.759914496029297"
      ]
     },
     "execution_count": 26,
     "metadata": {},
     "output_type": "execute_result"
    }
   ],
   "source": [
    "# Get accuracy on test set\n",
    "predictions = bestGBTModel.transform(testData)\n",
    "getAccuracy(predictions)"
   ]
  },
  {
   "cell_type": "code",
   "execution_count": null,
   "metadata": {},
   "outputs": [],
   "source": [
    "# save best model\n",
    "bestGBTModel.save(\"tmp/best-tree-model\")"
   ]
  },
  {
   "cell_type": "markdown",
   "metadata": {},
   "source": [
    "### Size"
   ]
  },
  {
   "cell_type": "code",
   "execution_count": 97,
   "metadata": {},
   "outputs": [
    {
     "name": "stdout",
     "output_type": "stream",
     "text": [
      "1.4M\ttmp/best-tree-model\n"
     ]
    }
   ],
   "source": [
    "!du -sh tmp/best-tree-model"
   ]
  },
  {
   "cell_type": "code",
   "execution_count": 95,
   "metadata": {},
   "outputs": [],
   "source": [
    "pipelineModel = Pipeline.load(\"tmp/best-tree-model\")"
   ]
  },
  {
   "cell_type": "markdown",
   "metadata": {},
   "source": [
    "### 2. Logistic Regression"
   ]
  },
  {
   "cell_type": "code",
   "execution_count": 29,
   "metadata": {},
   "outputs": [],
   "source": [
    "# Create logistic regression\n",
    "lr = LogisticRegression(featuresCol=\"features\",labelCol = 'label')\n",
    "# Create pipeline\n",
    "pipeline = Pipeline(stages=[changeColumnType,imputer,indexer,responseVariable,encoder,getFeatures,lr])\n"
   ]
  },
  {
   "cell_type": "code",
   "execution_count": 30,
   "metadata": {},
   "outputs": [
    {
     "name": "stdout",
     "output_type": "stream",
     "text": [
      "len(paramGrid): 9\n"
     ]
    }
   ],
   "source": [
    "# Set up the parameter grid\n",
    "paramGrid = ParamGridBuilder() \\\n",
    "    .addGrid(lr.maxIter, [10,20, 30]) \\\n",
    "    .addGrid(lr.elasticNetParam,[0.1,0.5,0.9]) \\\n",
    "    .build()\n",
    "\n",
    "print('len(paramGrid): {}'.format(len(paramGrid)))\n",
    "\n",
    "# Treat the Pipeline as an Estimator, wrapping it in a TrainValidation instance.\n",
    "trainVal = TrainValidationSplit(estimator=pipeline,\n",
    "                          estimatorParamMaps=paramGrid,\n",
    "                          evaluator=BinaryClassificationEvaluator())\n"
   ]
  },
  {
   "cell_type": "code",
   "execution_count": 31,
   "metadata": {},
   "outputs": [
    {
     "name": "stdout",
     "output_type": "stream",
     "text": [
      "train time: 475.09101152420044\n"
     ]
    }
   ],
   "source": [
    "# Run cross-validation, and choose the best set of parameters. Print the training time.\n",
    "t0 = time.time()\n",
    "\n",
    "bestLrModel = trainVal.setParallelism(4).fit(trainingData) # train 4 models in parallel\n",
    "print(\"train time:\", time.time() - t0)\n",
    "\n"
   ]
  },
  {
   "cell_type": "code",
   "execution_count": 33,
   "metadata": {},
   "outputs": [
    {
     "data": {
      "text/html": [
       "<div>\n",
       "<style scoped>\n",
       "    .dataframe tbody tr th:only-of-type {\n",
       "        vertical-align: middle;\n",
       "    }\n",
       "\n",
       "    .dataframe tbody tr th {\n",
       "        vertical-align: top;\n",
       "    }\n",
       "\n",
       "    .dataframe thead th {\n",
       "        text-align: right;\n",
       "    }\n",
       "</style>\n",
       "<table border=\"1\" class=\"dataframe\">\n",
       "  <thead>\n",
       "    <tr style=\"text-align: right;\">\n",
       "      <th></th>\n",
       "      <th>areaUnderROC</th>\n",
       "      <th>maxIter</th>\n",
       "      <th>elasticNetParam</th>\n",
       "    </tr>\n",
       "  </thead>\n",
       "  <tbody>\n",
       "    <tr>\n",
       "      <th>0</th>\n",
       "      <td>0.517932</td>\n",
       "      <td>10</td>\n",
       "      <td>0.1</td>\n",
       "    </tr>\n",
       "    <tr>\n",
       "      <th>1</th>\n",
       "      <td>0.517932</td>\n",
       "      <td>10</td>\n",
       "      <td>0.5</td>\n",
       "    </tr>\n",
       "    <tr>\n",
       "      <th>2</th>\n",
       "      <td>0.517932</td>\n",
       "      <td>10</td>\n",
       "      <td>0.9</td>\n",
       "    </tr>\n",
       "    <tr>\n",
       "      <th>3</th>\n",
       "      <td>0.517905</td>\n",
       "      <td>20</td>\n",
       "      <td>0.1</td>\n",
       "    </tr>\n",
       "    <tr>\n",
       "      <th>4</th>\n",
       "      <td>0.517905</td>\n",
       "      <td>20</td>\n",
       "      <td>0.5</td>\n",
       "    </tr>\n",
       "    <tr>\n",
       "      <th>5</th>\n",
       "      <td>0.517905</td>\n",
       "      <td>20</td>\n",
       "      <td>0.9</td>\n",
       "    </tr>\n",
       "    <tr>\n",
       "      <th>6</th>\n",
       "      <td>0.518338</td>\n",
       "      <td>30</td>\n",
       "      <td>0.1</td>\n",
       "    </tr>\n",
       "    <tr>\n",
       "      <th>7</th>\n",
       "      <td>0.518338</td>\n",
       "      <td>30</td>\n",
       "      <td>0.5</td>\n",
       "    </tr>\n",
       "    <tr>\n",
       "      <th>8</th>\n",
       "      <td>0.518338</td>\n",
       "      <td>30</td>\n",
       "      <td>0.9</td>\n",
       "    </tr>\n",
       "  </tbody>\n",
       "</table>\n",
       "</div>"
      ],
      "text/plain": [
       "   areaUnderROC  maxIter  elasticNetParam\n",
       "0      0.517932       10              0.1\n",
       "1      0.517932       10              0.5\n",
       "2      0.517932       10              0.9\n",
       "3      0.517905       20              0.1\n",
       "4      0.517905       20              0.5\n",
       "5      0.517905       20              0.9\n",
       "6      0.518338       30              0.1\n",
       "7      0.518338       30              0.5\n",
       "8      0.518338       30              0.9"
      ]
     },
     "execution_count": 33,
     "metadata": {},
     "output_type": "execute_result"
    }
   ],
   "source": [
    "\n",
    "#https://stackoverflow.com/questions/51230726/extract-results-from-crossvalidator-with-paramgrid-in-pyspark\n",
    "params = [{p.name: v for p, v in m.items()} for m in bestLrModel.getEstimatorParamMaps()]\n",
    "# Print out metrics and AUC\n",
    "pd.DataFrame.from_dict([\n",
    "    {bestLrModel.getEvaluator().getMetricName(): metric, **ps} \n",
    "    for ps, metric in zip(params, bestLrModel.validationMetrics)\n",
    "])"
   ]
  },
  {
   "cell_type": "code",
   "execution_count": 34,
   "metadata": {},
   "outputs": [
    {
     "data": {
      "text/plain": [
       "0.5764120212370283"
      ]
     },
     "execution_count": 34,
     "metadata": {},
     "output_type": "execute_result"
    }
   ],
   "source": [
    "# Make predictions on test documents.\n",
    "prediction = bestLrModel.transform(testData)\n",
    "getAccuracy(prediction)"
   ]
  },
  {
   "cell_type": "markdown",
   "metadata": {},
   "source": [
    "### 3: Deep Learning"
   ]
  },
  {
   "cell_type": "code",
   "execution_count": 29,
   "metadata": {},
   "outputs": [],
   "source": [
    "# Set up layers\n",
    "layers = [11, 5, 4, 2]\n",
    "# create the trainer and set its parameters\n",
    "trainer = MultilayerPerceptronClassifier(layers=layers, seed=1234)"
   ]
  },
  {
   "cell_type": "code",
   "execution_count": 30,
   "metadata": {},
   "outputs": [],
   "source": [
    "# Create pipeline\n",
    "pipeline = Pipeline(stages=[changeColumnType,imputer,indexer,responseVariable,encoder,getFeatures,trainer])\n"
   ]
  },
  {
   "cell_type": "code",
   "execution_count": 31,
   "metadata": {},
   "outputs": [
    {
     "name": "stdout",
     "output_type": "stream",
     "text": [
      "len(paramGrid): 12\n"
     ]
    }
   ],
   "source": [
    "# Set up the parameter grid\n",
    "paramGrid = ParamGridBuilder() \\\n",
    "    .addGrid(trainer.maxIter, [10,50,100,150]) \\\n",
    "    .addGrid(trainer.blockSize,[64,128,256]) \\\n",
    "    .build()\n",
    "\n",
    "print('len(paramGrid): {}'.format(len(paramGrid)))\n",
    "\n",
    "# Treat the Pipeline as an Estimator, wrapping it in a TrainValidation instance.\n",
    "trainVal = TrainValidationSplit(estimator=pipeline,\n",
    "                          estimatorParamMaps=paramGrid,\n",
    "                          evaluator=BinaryClassificationEvaluator())\n",
    "\n"
   ]
  },
  {
   "cell_type": "code",
   "execution_count": 32,
   "metadata": {},
   "outputs": [
    {
     "name": "stdout",
     "output_type": "stream",
     "text": [
      "train time: 4940.933402776718\n"
     ]
    }
   ],
   "source": [
    "# Run cross-validation, and choose the best set of parameters. Print the training time.\n",
    "t0 = time.time()\n",
    "\n",
    "bestMLPCModel = trainVal.setParallelism(4).fit(trainingData) # train 4 models in parallel\n",
    "print(\"train time:\", time.time() - t0)\n",
    "\n"
   ]
  },
  {
   "cell_type": "code",
   "execution_count": 33,
   "metadata": {},
   "outputs": [
    {
     "data": {
      "text/html": [
       "<div>\n",
       "<style scoped>\n",
       "    .dataframe tbody tr th:only-of-type {\n",
       "        vertical-align: middle;\n",
       "    }\n",
       "\n",
       "    .dataframe tbody tr th {\n",
       "        vertical-align: top;\n",
       "    }\n",
       "\n",
       "    .dataframe thead th {\n",
       "        text-align: right;\n",
       "    }\n",
       "</style>\n",
       "<table border=\"1\" class=\"dataframe\">\n",
       "  <thead>\n",
       "    <tr style=\"text-align: right;\">\n",
       "      <th></th>\n",
       "      <th>areaUnderROC</th>\n",
       "      <th>maxIter</th>\n",
       "      <th>blockSize</th>\n",
       "    </tr>\n",
       "  </thead>\n",
       "  <tbody>\n",
       "    <tr>\n",
       "      <th>0</th>\n",
       "      <td>0.503215</td>\n",
       "      <td>10</td>\n",
       "      <td>64</td>\n",
       "    </tr>\n",
       "    <tr>\n",
       "      <th>1</th>\n",
       "      <td>0.503215</td>\n",
       "      <td>10</td>\n",
       "      <td>128</td>\n",
       "    </tr>\n",
       "    <tr>\n",
       "      <th>2</th>\n",
       "      <td>0.503215</td>\n",
       "      <td>10</td>\n",
       "      <td>256</td>\n",
       "    </tr>\n",
       "    <tr>\n",
       "      <th>3</th>\n",
       "      <td>0.503215</td>\n",
       "      <td>50</td>\n",
       "      <td>64</td>\n",
       "    </tr>\n",
       "    <tr>\n",
       "      <th>4</th>\n",
       "      <td>0.503215</td>\n",
       "      <td>50</td>\n",
       "      <td>128</td>\n",
       "    </tr>\n",
       "    <tr>\n",
       "      <th>5</th>\n",
       "      <td>0.503214</td>\n",
       "      <td>50</td>\n",
       "      <td>256</td>\n",
       "    </tr>\n",
       "    <tr>\n",
       "      <th>6</th>\n",
       "      <td>0.503215</td>\n",
       "      <td>100</td>\n",
       "      <td>64</td>\n",
       "    </tr>\n",
       "    <tr>\n",
       "      <th>7</th>\n",
       "      <td>0.503215</td>\n",
       "      <td>100</td>\n",
       "      <td>128</td>\n",
       "    </tr>\n",
       "    <tr>\n",
       "      <th>8</th>\n",
       "      <td>0.503214</td>\n",
       "      <td>100</td>\n",
       "      <td>256</td>\n",
       "    </tr>\n",
       "    <tr>\n",
       "      <th>9</th>\n",
       "      <td>0.503215</td>\n",
       "      <td>150</td>\n",
       "      <td>64</td>\n",
       "    </tr>\n",
       "    <tr>\n",
       "      <th>10</th>\n",
       "      <td>0.503215</td>\n",
       "      <td>150</td>\n",
       "      <td>128</td>\n",
       "    </tr>\n",
       "    <tr>\n",
       "      <th>11</th>\n",
       "      <td>0.503214</td>\n",
       "      <td>150</td>\n",
       "      <td>256</td>\n",
       "    </tr>\n",
       "  </tbody>\n",
       "</table>\n",
       "</div>"
      ],
      "text/plain": [
       "    areaUnderROC  maxIter  blockSize\n",
       "0       0.503215       10         64\n",
       "1       0.503215       10        128\n",
       "2       0.503215       10        256\n",
       "3       0.503215       50         64\n",
       "4       0.503215       50        128\n",
       "5       0.503214       50        256\n",
       "6       0.503215      100         64\n",
       "7       0.503215      100        128\n",
       "8       0.503214      100        256\n",
       "9       0.503215      150         64\n",
       "10      0.503215      150        128\n",
       "11      0.503214      150        256"
      ]
     },
     "execution_count": 33,
     "metadata": {},
     "output_type": "execute_result"
    }
   ],
   "source": [
    "#https://stackoverflow.com/questions/51230726/extract-results-from-crossvalidator-with-paramgrid-in-pyspark\n",
    "params = [{p.name: v for p, v in m.items()} for m in bestMLPCModel.getEstimatorParamMaps()]\n",
    "# Get metrics and AUC\n",
    "pd.DataFrame.from_dict([\n",
    "    {bestMLPCModel.getEvaluator().getMetricName(): metric, **ps} \n",
    "    for ps, metric in zip(params, bestMLPCModel.validationMetrics)\n",
    "])"
   ]
  },
  {
   "cell_type": "code",
   "execution_count": 35,
   "metadata": {},
   "outputs": [
    {
     "data": {
      "text/plain": [
       "0.575877001943309"
      ]
     },
     "execution_count": 35,
     "metadata": {},
     "output_type": "execute_result"
    }
   ],
   "source": [
    "# Make predictions on test set, get accuracy\n",
    "prediction = bestMLPCModel.transform(testData)\n",
    "getAccuracy(prediction)"
   ]
  },
  {
   "cell_type": "markdown",
   "metadata": {},
   "source": [
    "## 5. model evaluation (2 PTS)"
   ]
  },
  {
   "cell_type": "markdown",
   "metadata": {},
   "source": [
    "### a. Evaluate relevant metrics (for hypertuned models)"
   ]
  },
  {
   "cell_type": "code",
   "execution_count": 29,
   "metadata": {},
   "outputs": [
    {
     "data": {
      "text/plain": [
       "DataFrame[date: int, symbol: string, open: double, close: double, low: double, high: double, volume: double, dateLagged: timestamp, futurePrice: double, quarter: int, year: int, dayofweek: int, month: int, dayofmonth: int, isholiday: int, period_ending: timestamp, accounts_payable: double, accounts_receivable: double, add'l_income/expense_items: double, after_tax_roe: double, capital_expenditures: double, capital_surplus: double, cash_ratio: double, cash_and_cash_equivalents: double, changes_in_inventories: double, common_stocks: double, cost_of_revenue: double, current_ratio: double, deferred_asset_charges: double, deferred_liability_charges: double, depreciation: double, earnings_before_interest_and_tax: double, earnings_before_tax: double, effect_of_exchange_rate: double, equity_earnings/loss_unconsolidated_subsidiary: double, fixed_assets: double, goodwill: double, gross_margin: double, gross_profit: double, income_tax: double, intangible_assets: double, interest_expense: double, inventory: double, investments: double, liabilities: double, long-term_debt: double, long-term_investments: double, minority_interest: double, misc__stocks: double, net_borrowings: double, net_cash_flow: double, net_cash_flow-operating: double, net_cash_flows-financing: double, net_cash_flows-investing: double, net_income: double, net_income_adjustments: double, net_income_applicable_to_common_shareholders: double, net_income-cont__operations: double, net_receivables: double, non-recurring_items: double, operating_income: double, operating_margin: double, other_assets: double, other_current_assets: double, other_current_liabilities: double, other_equity: double, other_financing_activities: double, other_investing_activities: double, other_liabilities: double, other_operating_activities: double, other_operating_items: double, pre-tax_margin: double, pre-tax_roe: double, profit_margin: double, quick_ratio: double, research_and_development: double, retained_earnings: double, sale_and_purchase_of_stock: double, sales_general_and_admin_: double, short-term_debt_/_current_portion_of_long-term_debt: double, short-term_investments: double, total_assets: double, total_current_assets: double, total_current_liabilities: double, total_equity: double, total_liabilities: double, total_liabilities_&_equity: double, total_revenue: double, treasury_stock: double, for_year: double, earnings_per_share: double, estimated_shares_outstanding: double, symbolIndex: double, difference: double, label: int, symbolVec: vector, features: vector, rawPrediction: vector, probability: vector, prediction: double]"
      ]
     },
     "execution_count": 29,
     "metadata": {},
     "output_type": "execute_result"
    }
   ],
   "source": [
    "# Recreate Models with tuned hyperparameters\n",
    "bestBt = GBTClassifier(featuresCol=\"features\",labelCol = 'label', maxIter=10,maxBins=550,maxDepth=10)\n",
    "pipelineBt = Pipeline(stages=[changeColumnType,imputer,indexer,responseVariable,encoder,getFeatures,bestBt])\n",
    "\n",
    "bestLr = LogisticRegression(featuresCol=\"features\",labelCol = 'label',elasticNetParam = 0.5, maxIter=30)\n",
    "pipelineLr = Pipeline(stages=[changeColumnType,imputer,indexer,responseVariable,encoder,getFeatures,bestLr])\n",
    "\n",
    "bestMlpc = MultilayerPerceptronClassifier(layers=[11, 5, 4, 2], seed=1234,maxIter=10,blockSize=64)\n",
    "pipelineMlpc = Pipeline(stages=[changeColumnType,imputer,indexer,responseVariable,encoder,getFeatures,bestMlpc])\n",
    "\n",
    "# Fit models on training data\n",
    "bestBtModel = pipelineBt.fit(trainingData)\n",
    "bestLrModel = pipelineLr.fit(trainingData)\n",
    "bestMlpcModel = pipelineMlpc.fit(trainingData)\n",
    "\n",
    "# Get Predictions for each of the models\n",
    "predBt = bestBtModel.transform(testData)\n",
    "predLr = bestLrModel.transform(testData)\n",
    "predMlpc = bestMlpcModel.transform(testData)\n",
    "predBt.cache()\n",
    "predLr.cache()\n",
    "predMlpc.cache()"
   ]
  },
  {
   "cell_type": "code",
   "execution_count": 31,
   "metadata": {},
   "outputs": [
    {
     "data": {
      "text/plain": [
       "PythonRDD[787] at RDD at PythonRDD.scala:53"
      ]
     },
     "execution_count": 31,
     "metadata": {},
     "output_type": "execute_result"
    }
   ],
   "source": [
    "# Compute raw scores on the test set\n",
    "BtPredictionAndLabels = predBt.rdd.map(lambda lp: (float(lp.prediction),float(lp.label)))\n",
    "LrPredictionAndLabels = predLr.rdd.map(lambda lp: (float(lp.prediction),float(lp.label)))\n",
    "MlpcPredictionAndLabels = predMlpc.rdd.map(lambda lp: (float(lp.prediction),float(lp.label)))\n",
    "BtPredictionAndLabels.cache()\n",
    "LrPredictionAndLabels.cache()\n",
    "MlpcPredictionAndLabels.cache()"
   ]
  },
  {
   "cell_type": "code",
   "execution_count": 132,
   "metadata": {},
   "outputs": [],
   "source": [
    "# Helper function to get metrics\n",
    "def getMetrics(predLabels):\n",
    "    metricsBin = BinaryClassificationMetrics(predLabels)\n",
    "    # auc\n",
    "    auc = metricsBin.areaUnderROC\n",
    "    metricsMulti = MulticlassMetrics(predLabels)\n",
    "    # accuracy\n",
    "    accuracy = metricsMulti.accuracy\n",
    "    # precision\n",
    "    precision = metricsMulti.precision(1)\n",
    "    # recall\n",
    "    recall = metricsMulti.recall(1)\n",
    "    # f1 score\n",
    "    f1score = metricsMulti.weightedFMeasure()\n",
    "    # confusion matrix\n",
    "    confusionMatrix = metricsMulti.confusionMatrix()\n",
    "    return pd.DataFrame([[auc,accuracy,precision,recall,f1score]],columns=['auc','accuracy','precision','recall','f1score']), pd.DataFrame(confusionMatrix.toArray(),index=['actual 0','actual 1'],columns=['predicted 0','predicted 1'])"
   ]
  },
  {
   "cell_type": "code",
   "execution_count": 133,
   "metadata": {},
   "outputs": [],
   "source": [
    "# get Logistic Regression Metrics\n",
    "pd1, mat = getMetrics(LrPredictionAndLabels)"
   ]
  },
  {
   "cell_type": "code",
   "execution_count": 134,
   "metadata": {},
   "outputs": [
    {
     "data": {
      "text/html": [
       "<div>\n",
       "<style scoped>\n",
       "    .dataframe tbody tr th:only-of-type {\n",
       "        vertical-align: middle;\n",
       "    }\n",
       "\n",
       "    .dataframe tbody tr th {\n",
       "        vertical-align: top;\n",
       "    }\n",
       "\n",
       "    .dataframe thead th {\n",
       "        text-align: right;\n",
       "    }\n",
       "</style>\n",
       "<table border=\"1\" class=\"dataframe\">\n",
       "  <thead>\n",
       "    <tr style=\"text-align: right;\">\n",
       "      <th></th>\n",
       "      <th>auc</th>\n",
       "      <th>accuracy</th>\n",
       "      <th>precision</th>\n",
       "      <th>recall</th>\n",
       "      <th>f1score</th>\n",
       "    </tr>\n",
       "  </thead>\n",
       "  <tbody>\n",
       "    <tr>\n",
       "      <th>0</th>\n",
       "      <td>0.5</td>\n",
       "      <td>0.575036</td>\n",
       "      <td>0.575036</td>\n",
       "      <td>1.0</td>\n",
       "      <td>0.419884</td>\n",
       "    </tr>\n",
       "  </tbody>\n",
       "</table>\n",
       "</div>"
      ],
      "text/plain": [
       "   auc  accuracy  precision  recall   f1score\n",
       "0  0.5  0.575036   0.575036     1.0  0.419884"
      ]
     },
     "execution_count": 134,
     "metadata": {},
     "output_type": "execute_result"
    }
   ],
   "source": [
    "pd1"
   ]
  },
  {
   "cell_type": "code",
   "execution_count": 135,
   "metadata": {},
   "outputs": [
    {
     "data": {
      "text/html": [
       "<div>\n",
       "<style scoped>\n",
       "    .dataframe tbody tr th:only-of-type {\n",
       "        vertical-align: middle;\n",
       "    }\n",
       "\n",
       "    .dataframe tbody tr th {\n",
       "        vertical-align: top;\n",
       "    }\n",
       "\n",
       "    .dataframe thead th {\n",
       "        text-align: right;\n",
       "    }\n",
       "</style>\n",
       "<table border=\"1\" class=\"dataframe\">\n",
       "  <thead>\n",
       "    <tr style=\"text-align: right;\">\n",
       "      <th></th>\n",
       "      <th>predicted 0</th>\n",
       "      <th>predicted 1</th>\n",
       "    </tr>\n",
       "  </thead>\n",
       "  <tbody>\n",
       "    <tr>\n",
       "      <th>actual 0</th>\n",
       "      <td>0.0</td>\n",
       "      <td>104067.0</td>\n",
       "    </tr>\n",
       "    <tr>\n",
       "      <th>actual 1</th>\n",
       "      <td>0.0</td>\n",
       "      <td>140817.0</td>\n",
       "    </tr>\n",
       "  </tbody>\n",
       "</table>\n",
       "</div>"
      ],
      "text/plain": [
       "          predicted 0  predicted 1\n",
       "actual 0          0.0     104067.0\n",
       "actual 1          0.0     140817.0"
      ]
     },
     "execution_count": 135,
     "metadata": {},
     "output_type": "execute_result"
    }
   ],
   "source": [
    "mat"
   ]
  },
  {
   "cell_type": "code",
   "execution_count": 136,
   "metadata": {},
   "outputs": [],
   "source": [
    "# Get Gradient Boosted Tree Metrics\n",
    "pd1, mat = getMetrics(BtPredictionAndLabels)"
   ]
  },
  {
   "cell_type": "code",
   "execution_count": 137,
   "metadata": {},
   "outputs": [
    {
     "data": {
      "text/html": [
       "<div>\n",
       "<style scoped>\n",
       "    .dataframe tbody tr th:only-of-type {\n",
       "        vertical-align: middle;\n",
       "    }\n",
       "\n",
       "    .dataframe tbody tr th {\n",
       "        vertical-align: top;\n",
       "    }\n",
       "\n",
       "    .dataframe thead th {\n",
       "        text-align: right;\n",
       "    }\n",
       "</style>\n",
       "<table border=\"1\" class=\"dataframe\">\n",
       "  <thead>\n",
       "    <tr style=\"text-align: right;\">\n",
       "      <th></th>\n",
       "      <th>auc</th>\n",
       "      <th>accuracy</th>\n",
       "      <th>precision</th>\n",
       "      <th>recall</th>\n",
       "      <th>f1score</th>\n",
       "    </tr>\n",
       "  </thead>\n",
       "  <tbody>\n",
       "    <tr>\n",
       "      <th>0</th>\n",
       "      <td>0.759694</td>\n",
       "      <td>0.779144</td>\n",
       "      <td>0.764874</td>\n",
       "      <td>0.889303</td>\n",
       "      <td>0.773794</td>\n",
       "    </tr>\n",
       "  </tbody>\n",
       "</table>\n",
       "</div>"
      ],
      "text/plain": [
       "        auc  accuracy  precision    recall   f1score\n",
       "0  0.759694  0.779144   0.764874  0.889303  0.773794"
      ]
     },
     "execution_count": 137,
     "metadata": {},
     "output_type": "execute_result"
    }
   ],
   "source": [
    "pd1"
   ]
  },
  {
   "cell_type": "code",
   "execution_count": 138,
   "metadata": {},
   "outputs": [
    {
     "data": {
      "text/html": [
       "<div>\n",
       "<style scoped>\n",
       "    .dataframe tbody tr th:only-of-type {\n",
       "        vertical-align: middle;\n",
       "    }\n",
       "\n",
       "    .dataframe tbody tr th {\n",
       "        vertical-align: top;\n",
       "    }\n",
       "\n",
       "    .dataframe thead th {\n",
       "        text-align: right;\n",
       "    }\n",
       "</style>\n",
       "<table border=\"1\" class=\"dataframe\">\n",
       "  <thead>\n",
       "    <tr style=\"text-align: right;\">\n",
       "      <th></th>\n",
       "      <th>predicted 0</th>\n",
       "      <th>predicted 1</th>\n",
       "    </tr>\n",
       "  </thead>\n",
       "  <tbody>\n",
       "    <tr>\n",
       "      <th>actual 0</th>\n",
       "      <td>65571.0</td>\n",
       "      <td>38496.0</td>\n",
       "    </tr>\n",
       "    <tr>\n",
       "      <th>actual 1</th>\n",
       "      <td>15588.0</td>\n",
       "      <td>125229.0</td>\n",
       "    </tr>\n",
       "  </tbody>\n",
       "</table>\n",
       "</div>"
      ],
      "text/plain": [
       "          predicted 0  predicted 1\n",
       "actual 0      65571.0      38496.0\n",
       "actual 1      15588.0     125229.0"
      ]
     },
     "execution_count": 138,
     "metadata": {},
     "output_type": "execute_result"
    }
   ],
   "source": [
    "mat"
   ]
  },
  {
   "cell_type": "code",
   "execution_count": 139,
   "metadata": {},
   "outputs": [],
   "source": [
    "# Get Multilayer Perceptron Metrics\n",
    "pd1, mat = getMetrics(MlpcPredictionAndLabels)"
   ]
  },
  {
   "cell_type": "code",
   "execution_count": 140,
   "metadata": {},
   "outputs": [
    {
     "data": {
      "text/html": [
       "<div>\n",
       "<style scoped>\n",
       "    .dataframe tbody tr th:only-of-type {\n",
       "        vertical-align: middle;\n",
       "    }\n",
       "\n",
       "    .dataframe tbody tr th {\n",
       "        vertical-align: top;\n",
       "    }\n",
       "\n",
       "    .dataframe thead th {\n",
       "        text-align: right;\n",
       "    }\n",
       "</style>\n",
       "<table border=\"1\" class=\"dataframe\">\n",
       "  <thead>\n",
       "    <tr style=\"text-align: right;\">\n",
       "      <th></th>\n",
       "      <th>auc</th>\n",
       "      <th>accuracy</th>\n",
       "      <th>precision</th>\n",
       "      <th>recall</th>\n",
       "      <th>f1score</th>\n",
       "    </tr>\n",
       "  </thead>\n",
       "  <tbody>\n",
       "    <tr>\n",
       "      <th>0</th>\n",
       "      <td>0.5</td>\n",
       "      <td>0.575036</td>\n",
       "      <td>0.575036</td>\n",
       "      <td>1.0</td>\n",
       "      <td>0.419884</td>\n",
       "    </tr>\n",
       "  </tbody>\n",
       "</table>\n",
       "</div>"
      ],
      "text/plain": [
       "   auc  accuracy  precision  recall   f1score\n",
       "0  0.5  0.575036   0.575036     1.0  0.419884"
      ]
     },
     "execution_count": 140,
     "metadata": {},
     "output_type": "execute_result"
    }
   ],
   "source": [
    "pd1"
   ]
  },
  {
   "cell_type": "code",
   "execution_count": 141,
   "metadata": {},
   "outputs": [
    {
     "data": {
      "text/html": [
       "<div>\n",
       "<style scoped>\n",
       "    .dataframe tbody tr th:only-of-type {\n",
       "        vertical-align: middle;\n",
       "    }\n",
       "\n",
       "    .dataframe tbody tr th {\n",
       "        vertical-align: top;\n",
       "    }\n",
       "\n",
       "    .dataframe thead th {\n",
       "        text-align: right;\n",
       "    }\n",
       "</style>\n",
       "<table border=\"1\" class=\"dataframe\">\n",
       "  <thead>\n",
       "    <tr style=\"text-align: right;\">\n",
       "      <th></th>\n",
       "      <th>predicted 0</th>\n",
       "      <th>predicted 1</th>\n",
       "    </tr>\n",
       "  </thead>\n",
       "  <tbody>\n",
       "    <tr>\n",
       "      <th>actual 0</th>\n",
       "      <td>0.0</td>\n",
       "      <td>104067.0</td>\n",
       "    </tr>\n",
       "    <tr>\n",
       "      <th>actual 1</th>\n",
       "      <td>0.0</td>\n",
       "      <td>140817.0</td>\n",
       "    </tr>\n",
       "  </tbody>\n",
       "</table>\n",
       "</div>"
      ],
      "text/plain": [
       "          predicted 0  predicted 1\n",
       "actual 0          0.0     104067.0\n",
       "actual 1          0.0     140817.0"
      ]
     },
     "execution_count": 141,
     "metadata": {},
     "output_type": "execute_result"
    }
   ],
   "source": [
    "mat"
   ]
  },
  {
   "cell_type": "markdown",
   "metadata": {},
   "source": [
    "### Champion Model"
   ]
  },
  {
   "cell_type": "markdown",
   "metadata": {},
   "source": [
    "Because of the output above, The Gradient Boosted Tree is our champion model, with a test set accuracy of 77.9%."
   ]
  },
  {
   "cell_type": "markdown",
   "metadata": {},
   "source": [
    "### b. Sensitivity Analysis"
   ]
  },
  {
   "cell_type": "code",
   "execution_count": 19,
   "metadata": {},
   "outputs": [],
   "source": [
    "# Custom Transformer to do sensitivity analysis\n",
    "class SensitivityAnalysis(Transformer, DefaultParamsWritable, DefaultParamsReadable):\n",
    "    def __init__(self,inputCol=None, outputCol=None):\n",
    "        super(SensitivityAnalysis, self).__init__()\n",
    "        self.inputCol = inputCol\n",
    "\n",
    "    def _transform(self, df):\n",
    "        # Change the specified variable by one standard deviation\n",
    "        df_stats = df.select(\n",
    "        _mean(col(self.inputCol)).alias('mean'),\n",
    "        _stddev(col(self.inputCol)).alias('std')\n",
    "            ).collect()\n",
    "        std = df_stats[0]['std']\n",
    "        df = df.withColumn(self.inputCol,col(self.inputCol)+ std)\n",
    "        return df"
   ]
  },
  {
   "cell_type": "code",
   "execution_count": 20,
   "metadata": {},
   "outputs": [],
   "source": [
    "# Helper function to run sensitivity analysis for specified variables\n",
    "def runSensitivityAnalysis(variables):\n",
    "    # For each variable...\n",
    "    rows = []\n",
    "    index=[]\n",
    "    columns = ['LR','DL','GBT']\n",
    "    for variable in variables:\n",
    "        # Create Sensitivity Analysis Transformer\n",
    "        sensitivity = SensitivityAnalysis(variable)\n",
    "        # Recreate Best Pipelines but with Sensitivity Analysis\n",
    "        bestBt = GBTClassifier(featuresCol=\"features\",labelCol = 'label', maxIter=10,maxBins=550,maxDepth=10)\n",
    "        pipelineBt = Pipeline(stages=[changeColumnType,imputer,indexer,responseVariable,sensitivity,encoder,getFeatures,bestBt])\n",
    "\n",
    "        bestLr = LogisticRegression(featuresCol=\"features\",labelCol = 'label',elasticNetParam = 0.5, maxIter=30)\n",
    "        pipelineLr = Pipeline(stages=[changeColumnType,imputer,indexer,responseVariable,sensitivity,encoder,getFeatures,bestLr])\n",
    "\n",
    "        bestMlpc = MultilayerPerceptronClassifier(layers=[11, 5, 4, 2], seed=1234,maxIter=10,blockSize=64)\n",
    "        pipelineMlpc = Pipeline(stages=[changeColumnType,imputer,indexer,responseVariable,sensitivity,encoder,getFeatures,bestMlpc])\n",
    "        \n",
    "        # Train Models\n",
    "        bestBtModel = pipelineBt.fit(trainingData)\n",
    "        bestLrModel = pipelineLr.fit(trainingData)\n",
    "        bestMlpcModel = pipelineMlpc.fit(trainingData)\n",
    "        \n",
    "        # Get Accuracy\n",
    "        predBt = getAccuracy(bestBtModel.transform(testData))\n",
    "        predLr = getAccuracy(bestLrModel.transform(testData))\n",
    "        predMlpc = getAccuracy(bestMlpcModel.transform(testData))\n",
    "        rows.append([predLr,predMlpc,predBt])\n",
    "        index.append(variable)\n",
    "    return pd.DataFrame(rows,columns=columns,index=index)\n",
    "\n"
   ]
  },
  {
   "cell_type": "code",
   "execution_count": 21,
   "metadata": {},
   "outputs": [],
   "source": [
    "# Run sensitivty analysis on the specified variables\n",
    "sensRes = runSensitivityAnalysis(['gross_profit','long-term_debt','open','close'])"
   ]
  },
  {
   "cell_type": "code",
   "execution_count": 22,
   "metadata": {},
   "outputs": [
    {
     "data": {
      "text/html": [
       "<div>\n",
       "<style scoped>\n",
       "    .dataframe tbody tr th:only-of-type {\n",
       "        vertical-align: middle;\n",
       "    }\n",
       "\n",
       "    .dataframe tbody tr th {\n",
       "        vertical-align: top;\n",
       "    }\n",
       "\n",
       "    .dataframe thead th {\n",
       "        text-align: right;\n",
       "    }\n",
       "</style>\n",
       "<table border=\"1\" class=\"dataframe\">\n",
       "  <thead>\n",
       "    <tr style=\"text-align: right;\">\n",
       "      <th></th>\n",
       "      <th>LR</th>\n",
       "      <th>DL</th>\n",
       "      <th>GBT</th>\n",
       "    </tr>\n",
       "  </thead>\n",
       "  <tbody>\n",
       "    <tr>\n",
       "      <th>gross_profit</th>\n",
       "      <td>0.576032</td>\n",
       "      <td>0.576032</td>\n",
       "      <td>0.781389</td>\n",
       "    </tr>\n",
       "    <tr>\n",
       "      <th>long-term_debt</th>\n",
       "      <td>0.576032</td>\n",
       "      <td>0.576032</td>\n",
       "      <td>0.781728</td>\n",
       "    </tr>\n",
       "    <tr>\n",
       "      <th>open</th>\n",
       "      <td>0.576032</td>\n",
       "      <td>0.576032</td>\n",
       "      <td>0.781058</td>\n",
       "    </tr>\n",
       "    <tr>\n",
       "      <th>close</th>\n",
       "      <td>0.576032</td>\n",
       "      <td>0.576032</td>\n",
       "      <td>0.781585</td>\n",
       "    </tr>\n",
       "  </tbody>\n",
       "</table>\n",
       "</div>"
      ],
      "text/plain": [
       "                      LR        DL       GBT\n",
       "gross_profit    0.576032  0.576032  0.781389\n",
       "long-term_debt  0.576032  0.576032  0.781728\n",
       "open            0.576032  0.576032  0.781058\n",
       "close           0.576032  0.576032  0.781585"
      ]
     },
     "execution_count": 22,
     "metadata": {},
     "output_type": "execute_result"
    }
   ],
   "source": [
    "sensRes"
   ]
  },
  {
   "cell_type": "markdown",
   "metadata": {},
   "source": [
    "From the output above, we see that as we add a standard deviation of specific columns of our models by one, our models (especially our champion model) retain similiar test set accuracies to those with non-adjusted columns."
   ]
  },
  {
   "cell_type": "code",
   "execution_count": 98,
   "metadata": {},
   "outputs": [
    {
     "name": "stdout",
     "output_type": "stream",
     "text": [
      "[NbConvertApp] Converting notebook /sfs/qumulo/qhome/trr2as/ds5559/project/big_data_cleaning.ipynb to pdf\n",
      "[NbConvertApp] Support files will be in big_data_cleaning_files/\n",
      "[NbConvertApp] Making directory ./big_data_cleaning_files\n",
      "[NbConvertApp] Making directory ./big_data_cleaning_files\n",
      "[NbConvertApp] Making directory ./big_data_cleaning_files\n",
      "[NbConvertApp] Making directory ./big_data_cleaning_files\n",
      "[NbConvertApp] Making directory ./big_data_cleaning_files\n",
      "[NbConvertApp] Writing 67678 bytes to ./notebook.tex\n",
      "[NbConvertApp] Building PDF\n",
      "[NbConvertApp] Running xelatex 3 times: ['xelatex', './notebook.tex', '-quiet']\n",
      "[NbConvertApp] Running bibtex 1 time: ['bibtex', './notebook']\n",
      "[NbConvertApp] WARNING | bibtex had problems, most likely because there were no citations\n",
      "[NbConvertApp] PDF successfully created\n",
      "[NbConvertApp] Writing 144370 bytes to /sfs/qumulo/qhome/trr2as/ds5559/project/big_data_cleaning.pdf\n",
      "[NbConvertApp] Converting notebook /sfs/qumulo/qhome/trr2as/ds5559/project/lag_model_building_assignment1.ipynb to pdf\n",
      "[NbConvertApp] Support files will be in lag_model_building_assignment1_files/\n",
      "[NbConvertApp] Making directory ./lag_model_building_assignment1_files\n",
      "[NbConvertApp] Making directory ./lag_model_building_assignment1_files\n",
      "[NbConvertApp] Making directory ./lag_model_building_assignment1_files\n",
      "[NbConvertApp] Making directory ./lag_model_building_assignment1_files\n",
      "[NbConvertApp] Making directory ./lag_model_building_assignment1_files\n",
      "[NbConvertApp] Writing 120800 bytes to ./notebook.tex\n",
      "[NbConvertApp] Building PDF\n",
      "[NbConvertApp] Running xelatex 3 times: ['xelatex', './notebook.tex', '-quiet']\n",
      "[NbConvertApp] Running bibtex 1 time: ['bibtex', './notebook']\n",
      "[NbConvertApp] WARNING | bibtex had problems, most likely because there were no citations\n",
      "[NbConvertApp] PDF successfully created\n",
      "[NbConvertApp] Writing 191549 bytes to /sfs/qumulo/qhome/trr2as/ds5559/project/lag_model_building_assignment1.pdf\n",
      "[NbConvertApp] Converting notebook /sfs/qumulo/qhome/trr2as/ds5559/project/model_building.ipynb to pdf\n",
      "[NbConvertApp] Support files will be in model_building_files/\n",
      "[NbConvertApp] Making directory ./model_building_files\n",
      "[NbConvertApp] Making directory ./model_building_files\n",
      "[NbConvertApp] Making directory ./model_building_files\n",
      "[NbConvertApp] Making directory ./model_building_files\n",
      "[NbConvertApp] Making directory ./model_building_files\n",
      "[NbConvertApp] Writing 88471 bytes to ./notebook.tex\n",
      "[NbConvertApp] Building PDF\n",
      "[NbConvertApp] Running xelatex 3 times: ['xelatex', './notebook.tex', '-quiet']\n",
      "[NbConvertApp] Running bibtex 1 time: ['bibtex', './notebook']\n",
      "[NbConvertApp] WARNING | bibtex had problems, most likely because there were no citations\n",
      "[NbConvertApp] PDF successfully created\n",
      "[NbConvertApp] Writing 161271 bytes to /sfs/qumulo/qhome/trr2as/ds5559/project/model_building.pdf\n",
      "[NbConvertApp] Converting notebook /sfs/qumulo/qhome/trr2as/ds5559/project/model_building_assignment.ipynb to pdf\n",
      "[NbConvertApp] Support files will be in model_building_assignment_files/\n",
      "[NbConvertApp] Making directory ./model_building_assignment_files\n",
      "[NbConvertApp] Making directory ./model_building_assignment_files\n",
      "[NbConvertApp] Making directory ./model_building_assignment_files\n",
      "[NbConvertApp] Making directory ./model_building_assignment_files\n",
      "[NbConvertApp] Making directory ./model_building_assignment_files\n",
      "[NbConvertApp] Writing 151483 bytes to ./notebook.tex\n",
      "[NbConvertApp] Building PDF\n",
      "[NbConvertApp] Running xelatex 3 times: ['xelatex', './notebook.tex', '-quiet']\n",
      "[NbConvertApp] Running bibtex 1 time: ['bibtex', './notebook']\n",
      "[NbConvertApp] WARNING | bibtex had problems, most likely because there were no citations\n",
      "[NbConvertApp] PDF successfully created\n",
      "[NbConvertApp] Writing 217613 bytes to /sfs/qumulo/qhome/trr2as/ds5559/project/model_building_assignment.pdf\n",
      "[NbConvertApp] Converting notebook /sfs/qumulo/qhome/trr2as/ds5559/project/model_building_assignment2.ipynb to pdf\n",
      "[NbConvertApp] Support files will be in model_building_assignment2_files/\n",
      "[NbConvertApp] Making directory ./model_building_assignment2_files\n",
      "[NbConvertApp] Making directory ./model_building_assignment2_files\n",
      "[NbConvertApp] Making directory ./model_building_assignment2_files\n",
      "[NbConvertApp] Making directory ./model_building_assignment2_files\n",
      "[NbConvertApp] Making directory ./model_building_assignment2_files\n",
      "[NbConvertApp] Writing 102885 bytes to ./notebook.tex\n",
      "[NbConvertApp] Building PDF\n",
      "[NbConvertApp] Running xelatex 3 times: ['xelatex', './notebook.tex', '-quiet']\n",
      "[NbConvertApp] Running bibtex 1 time: ['bibtex', './notebook']\n",
      "[NbConvertApp] WARNING | bibtex had problems, most likely because there were no citations\n",
      "[NbConvertApp] PDF successfully created\n",
      "[NbConvertApp] Writing 174068 bytes to /sfs/qumulo/qhome/trr2as/ds5559/project/model_building_assignment2.pdf\n",
      "[NbConvertApp] Converting notebook /sfs/qumulo/qhome/trr2as/ds5559/project/model_tuning.ipynb to pdf\n",
      "[NbConvertApp] Support files will be in model_tuning_files/\n",
      "[NbConvertApp] Making directory ./model_tuning_files\n",
      "[NbConvertApp] Making directory ./model_tuning_files\n",
      "[NbConvertApp] Making directory ./model_tuning_files\n",
      "[NbConvertApp] Making directory ./model_tuning_files\n",
      "[NbConvertApp] Making directory ./model_tuning_files\n",
      "[NbConvertApp] Writing 83479 bytes to ./notebook.tex\n",
      "[NbConvertApp] Building PDF\n",
      "[NbConvertApp] Running xelatex 3 times: ['xelatex', './notebook.tex', '-quiet']\n",
      "[NbConvertApp] Running bibtex 1 time: ['bibtex', './notebook']\n",
      "[NbConvertApp] WARNING | bibtex had problems, most likely because there were no citations\n",
      "[NbConvertApp] PDF successfully created\n",
      "[NbConvertApp] Writing 160712 bytes to /sfs/qumulo/qhome/trr2as/ds5559/project/model_tuning.pdf\n"
     ]
    }
   ],
   "source": [
    "# Save notebook as PDF document\n",
    "!jupyter nbconvert --to pdf `pwd`/*.ipynb"
   ]
  },
  {
   "cell_type": "code",
   "execution_count": null,
   "metadata": {},
   "outputs": [],
   "source": []
  }
 ],
 "metadata": {
  "kernelspec": {
   "display_name": "DS 5559",
   "language": "python",
   "name": "ds5559"
  },
  "language_info": {
   "codemirror_mode": {
    "name": "ipython",
    "version": 3
   },
   "file_extension": ".py",
   "mimetype": "text/x-python",
   "name": "python",
   "nbconvert_exporter": "python",
   "pygments_lexer": "ipython3",
   "version": "3.7.6"
  }
 },
 "nbformat": 4,
 "nbformat_minor": 4
}
